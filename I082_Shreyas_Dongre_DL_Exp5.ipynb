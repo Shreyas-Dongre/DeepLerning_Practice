{
  "nbformat": 4,
  "nbformat_minor": 0,
  "metadata": {
    "colab": {
      "provenance": []
    },
    "kernelspec": {
      "name": "python3",
      "display_name": "Python 3"
    },
    "language_info": {
      "name": "python"
    }
  },
  "cells": [
    {
      "cell_type": "markdown",
      "source": [
        "Name: Shreyas Dongre \n",
        "Roll no: I-082          \n",
        "Stream: AI                           \n",
        "Semester: V                                           \n",
        "Batch: I3            \n",
        "                                                                       Date: 10/9/2022       \n",
        "Subject: DL\n",
        "###Experiment-5"
      ],
      "metadata": {
        "id": "AQcOvhea02ew"
      }
    },
    {
      "cell_type": "code",
      "execution_count": 18,
      "metadata": {
        "id": "R4Kl8vAa0sy2"
      },
      "outputs": [],
      "source": [
        "import tensorflow as tf\n",
        "import numpy as np\n",
        "import matplotlib.pyplot as plt\n",
        "import pandas as pd"
      ]
    },
    {
      "cell_type": "code",
      "source": [
        "from keras.datasets import imdb"
      ],
      "metadata": {
        "id": "pNBuLclF03P-"
      },
      "execution_count": 19,
      "outputs": []
    },
    {
      "cell_type": "code",
      "source": [
        "(train_data, train_labels),(test_data,test_labels) = imdb.load_data(num_words=10000)"
      ],
      "metadata": {
        "id": "XlyBNolN03Sm"
      },
      "execution_count": 20,
      "outputs": []
    },
    {
      "cell_type": "code",
      "source": [
        "len(train_data[1])"
      ],
      "metadata": {
        "colab": {
          "base_uri": "https://localhost:8080/"
        },
        "id": "RL5YYwl-03VM",
        "outputId": "5a591ce9-bed9-4fcf-e503-9c84d33af163"
      },
      "execution_count": 21,
      "outputs": [
        {
          "output_type": "execute_result",
          "data": {
            "text/plain": [
              "189"
            ]
          },
          "metadata": {},
          "execution_count": 21
        }
      ]
    },
    {
      "cell_type": "code",
      "source": [
        "train_data[1]"
      ],
      "metadata": {
        "colab": {
          "base_uri": "https://localhost:8080/"
        },
        "id": "Jxv9_2pT03Xn",
        "outputId": "38365a6d-5864-471e-83d6-6e00f606c9cb"
      },
      "execution_count": 22,
      "outputs": [
        {
          "output_type": "execute_result",
          "data": {
            "text/plain": [
              "[1,\n",
              " 194,\n",
              " 1153,\n",
              " 194,\n",
              " 8255,\n",
              " 78,\n",
              " 228,\n",
              " 5,\n",
              " 6,\n",
              " 1463,\n",
              " 4369,\n",
              " 5012,\n",
              " 134,\n",
              " 26,\n",
              " 4,\n",
              " 715,\n",
              " 8,\n",
              " 118,\n",
              " 1634,\n",
              " 14,\n",
              " 394,\n",
              " 20,\n",
              " 13,\n",
              " 119,\n",
              " 954,\n",
              " 189,\n",
              " 102,\n",
              " 5,\n",
              " 207,\n",
              " 110,\n",
              " 3103,\n",
              " 21,\n",
              " 14,\n",
              " 69,\n",
              " 188,\n",
              " 8,\n",
              " 30,\n",
              " 23,\n",
              " 7,\n",
              " 4,\n",
              " 249,\n",
              " 126,\n",
              " 93,\n",
              " 4,\n",
              " 114,\n",
              " 9,\n",
              " 2300,\n",
              " 1523,\n",
              " 5,\n",
              " 647,\n",
              " 4,\n",
              " 116,\n",
              " 9,\n",
              " 35,\n",
              " 8163,\n",
              " 4,\n",
              " 229,\n",
              " 9,\n",
              " 340,\n",
              " 1322,\n",
              " 4,\n",
              " 118,\n",
              " 9,\n",
              " 4,\n",
              " 130,\n",
              " 4901,\n",
              " 19,\n",
              " 4,\n",
              " 1002,\n",
              " 5,\n",
              " 89,\n",
              " 29,\n",
              " 952,\n",
              " 46,\n",
              " 37,\n",
              " 4,\n",
              " 455,\n",
              " 9,\n",
              " 45,\n",
              " 43,\n",
              " 38,\n",
              " 1543,\n",
              " 1905,\n",
              " 398,\n",
              " 4,\n",
              " 1649,\n",
              " 26,\n",
              " 6853,\n",
              " 5,\n",
              " 163,\n",
              " 11,\n",
              " 3215,\n",
              " 2,\n",
              " 4,\n",
              " 1153,\n",
              " 9,\n",
              " 194,\n",
              " 775,\n",
              " 7,\n",
              " 8255,\n",
              " 2,\n",
              " 349,\n",
              " 2637,\n",
              " 148,\n",
              " 605,\n",
              " 2,\n",
              " 8003,\n",
              " 15,\n",
              " 123,\n",
              " 125,\n",
              " 68,\n",
              " 2,\n",
              " 6853,\n",
              " 15,\n",
              " 349,\n",
              " 165,\n",
              " 4362,\n",
              " 98,\n",
              " 5,\n",
              " 4,\n",
              " 228,\n",
              " 9,\n",
              " 43,\n",
              " 2,\n",
              " 1157,\n",
              " 15,\n",
              " 299,\n",
              " 120,\n",
              " 5,\n",
              " 120,\n",
              " 174,\n",
              " 11,\n",
              " 220,\n",
              " 175,\n",
              " 136,\n",
              " 50,\n",
              " 9,\n",
              " 4373,\n",
              " 228,\n",
              " 8255,\n",
              " 5,\n",
              " 2,\n",
              " 656,\n",
              " 245,\n",
              " 2350,\n",
              " 5,\n",
              " 4,\n",
              " 9837,\n",
              " 131,\n",
              " 152,\n",
              " 491,\n",
              " 18,\n",
              " 2,\n",
              " 32,\n",
              " 7464,\n",
              " 1212,\n",
              " 14,\n",
              " 9,\n",
              " 6,\n",
              " 371,\n",
              " 78,\n",
              " 22,\n",
              " 625,\n",
              " 64,\n",
              " 1382,\n",
              " 9,\n",
              " 8,\n",
              " 168,\n",
              " 145,\n",
              " 23,\n",
              " 4,\n",
              " 1690,\n",
              " 15,\n",
              " 16,\n",
              " 4,\n",
              " 1355,\n",
              " 5,\n",
              " 28,\n",
              " 6,\n",
              " 52,\n",
              " 154,\n",
              " 462,\n",
              " 33,\n",
              " 89,\n",
              " 78,\n",
              " 285,\n",
              " 16,\n",
              " 145,\n",
              " 95]"
            ]
          },
          "metadata": {},
          "execution_count": 22
        }
      ]
    },
    {
      "cell_type": "code",
      "source": [
        "train_labels[0]"
      ],
      "metadata": {
        "colab": {
          "base_uri": "https://localhost:8080/"
        },
        "id": "kT8YY8_M03aQ",
        "outputId": "cc20e6ba-3089-4ef2-e2ed-a2f59528ace3"
      },
      "execution_count": 23,
      "outputs": [
        {
          "output_type": "execute_result",
          "data": {
            "text/plain": [
              "1"
            ]
          },
          "metadata": {},
          "execution_count": 23
        }
      ]
    },
    {
      "cell_type": "code",
      "source": [
        "train_data.shape"
      ],
      "metadata": {
        "colab": {
          "base_uri": "https://localhost:8080/"
        },
        "id": "oqJNLsRB6W5S",
        "outputId": "f1e71aa4-9fc3-4706-ca17-c1c1233e4b4c"
      },
      "execution_count": 24,
      "outputs": [
        {
          "output_type": "execute_result",
          "data": {
            "text/plain": [
              "(25000,)"
            ]
          },
          "metadata": {},
          "execution_count": 24
        }
      ]
    },
    {
      "cell_type": "code",
      "source": [
        "max([max(sequence) for sequence in train_data])"
      ],
      "metadata": {
        "colab": {
          "base_uri": "https://localhost:8080/"
        },
        "id": "uXrD7Kro2l0P",
        "outputId": "e355689d-51ce-4950-d1de-ee7c0658646f"
      },
      "execution_count": 25,
      "outputs": [
        {
          "output_type": "execute_result",
          "data": {
            "text/plain": [
              "9999"
            ]
          },
          "metadata": {},
          "execution_count": 25
        }
      ]
    },
    {
      "cell_type": "code",
      "source": [
        "#encoding int sequences into binary matrix\n",
        "def vectorize_sequences(sequences, dimension=10000):\n",
        "  results=np.zeros((len(sequences),dimension))\n",
        "  #creates matrix of sequence x dim\n",
        "  for i,sequence in enumerate(sequences):      \n",
        "    results[i,sequence]=1.\n",
        "  return results  \n",
        "\n",
        "x_train = vectorize_sequences(train_data)\n",
        "x_test= vectorize_sequences(test_data)  #vectorized test data  "
      ],
      "metadata": {
        "id": "e-7krbH82l2v"
      },
      "execution_count": 26,
      "outputs": []
    },
    {
      "cell_type": "code",
      "source": [
        "x_train.shape"
      ],
      "metadata": {
        "colab": {
          "base_uri": "https://localhost:8080/"
        },
        "id": "18oZM3a97NWl",
        "outputId": "4781f813-dd9b-417d-a592-25fb60267b95"
      },
      "execution_count": 27,
      "outputs": [
        {
          "output_type": "execute_result",
          "data": {
            "text/plain": [
              "(25000, 10000)"
            ]
          },
          "metadata": {},
          "execution_count": 27
        }
      ]
    },
    {
      "cell_type": "code",
      "source": [
        "x_train[0]"
      ],
      "metadata": {
        "colab": {
          "base_uri": "https://localhost:8080/"
        },
        "id": "xpmvCwLT2l5N",
        "outputId": "d3d6dd7a-18a5-4127-8fee-9b6b906aaca8"
      },
      "execution_count": 28,
      "outputs": [
        {
          "output_type": "execute_result",
          "data": {
            "text/plain": [
              "array([0., 1., 1., ..., 0., 0., 0.])"
            ]
          },
          "metadata": {},
          "execution_count": 28
        }
      ]
    },
    {
      "cell_type": "code",
      "source": [
        "y_train=np.asarray(train_labels).astype('float32')\n",
        "y_test=np.asarray(test_labels).astype('float32')"
      ],
      "metadata": {
        "id": "ENggXBq5-dTs"
      },
      "execution_count": 29,
      "outputs": []
    },
    {
      "cell_type": "code",
      "source": [
        "y_train[0]"
      ],
      "metadata": {
        "colab": {
          "base_uri": "https://localhost:8080/"
        },
        "id": "nS7rFYuV-dvZ",
        "outputId": "b57c01ec-b424-4a15-84dc-8ed0043b38d8"
      },
      "execution_count": 30,
      "outputs": [
        {
          "output_type": "execute_result",
          "data": {
            "text/plain": [
              "1.0"
            ]
          },
          "metadata": {},
          "execution_count": 30
        }
      ]
    },
    {
      "cell_type": "code",
      "source": [
        "y_train=np.array(train_labels)"
      ],
      "metadata": {
        "id": "1QauY0Tq2l71"
      },
      "execution_count": 31,
      "outputs": []
    },
    {
      "cell_type": "code",
      "source": [
        "from keras import models\n",
        "from keras import layers\n",
        "\n",
        "#defining model\n",
        "model=models.Sequential()\n",
        "model.add(layers.Dense(16, activation='relu',input_shape=(10000,)))\n",
        "model.add(layers.Dense(16,activation='relu'))\n",
        "model.add(layers.Dense(1,activation='sigmoid'))"
      ],
      "metadata": {
        "id": "qjeX0Yw42l-o"
      },
      "execution_count": 32,
      "outputs": []
    },
    {
      "cell_type": "code",
      "source": [
        "#compiling the model \n",
        "#model.compile(opti='rmsprop',loss='binary_crossentropy',metrics=['accuracy'])"
      ],
      "metadata": {
        "id": "6BTabRXR2mBK"
      },
      "execution_count": 33,
      "outputs": []
    },
    {
      "cell_type": "code",
      "source": [
        "#configuring opti\n",
        "#from keras import labels\n",
        "#from keras import metrics\n"
      ],
      "metadata": {
        "id": "0p2Flag-2mD2"
      },
      "execution_count": 34,
      "outputs": []
    },
    {
      "cell_type": "code",
      "source": [
        "#settting validation set\n",
        "x_val=x_train[:10000]\n",
        "partial_x_train=x_train[10000:]\n",
        "y_val=y_train[:10000]\n",
        "partial_y_train=y_train[10000:]"
      ],
      "metadata": {
        "id": "N4TpQFrZ2mGw"
      },
      "execution_count": 35,
      "outputs": []
    },
    {
      "cell_type": "code",
      "source": [
        "x_val.shape"
      ],
      "metadata": {
        "colab": {
          "base_uri": "https://localhost:8080/"
        },
        "id": "7eni7wBF2mJB",
        "outputId": "4f3217b9-13fc-4193-9365-e18ca79e4c17"
      },
      "execution_count": 36,
      "outputs": [
        {
          "output_type": "execute_result",
          "data": {
            "text/plain": [
              "(10000, 10000)"
            ]
          },
          "metadata": {},
          "execution_count": 36
        }
      ]
    },
    {
      "cell_type": "code",
      "source": [
        "partial_x_train.shape"
      ],
      "metadata": {
        "colab": {
          "base_uri": "https://localhost:8080/"
        },
        "id": "DH_7oAel2mLZ",
        "outputId": "b7a581ea-e4a7-4140-87af-7abc7026d9eb"
      },
      "execution_count": 37,
      "outputs": [
        {
          "output_type": "execute_result",
          "data": {
            "text/plain": [
              "(15000, 10000)"
            ]
          },
          "metadata": {},
          "execution_count": 37
        }
      ]
    },
    {
      "cell_type": "code",
      "source": [
        "#train the model\n",
        "model.compile(optimizer='rmsprop',loss='binary_crossentropy',metrics=['acc'])\n",
        "history=model.fit(partial_x_train,partial_y_train,epochs=20,batch_size=512,validation_data=(x_val,y_val))"
      ],
      "metadata": {
        "colab": {
          "base_uri": "https://localhost:8080/"
        },
        "id": "3Y7eoT5Z2mOT",
        "outputId": "c83a1536-08de-4b3a-ef01-e92d9a614288"
      },
      "execution_count": 38,
      "outputs": [
        {
          "output_type": "stream",
          "name": "stdout",
          "text": [
            "Epoch 1/20\n",
            "30/30 [==============================] - 4s 95ms/step - loss: 0.5600 - acc: 0.7495 - val_loss: 0.4240 - val_acc: 0.8722\n",
            "Epoch 2/20\n",
            "30/30 [==============================] - 1s 48ms/step - loss: 0.3357 - acc: 0.9033 - val_loss: 0.3337 - val_acc: 0.8737\n",
            "Epoch 3/20\n",
            "30/30 [==============================] - 1s 43ms/step - loss: 0.2428 - acc: 0.9228 - val_loss: 0.2854 - val_acc: 0.8902\n",
            "Epoch 4/20\n",
            "30/30 [==============================] - 1s 44ms/step - loss: 0.1917 - acc: 0.9391 - val_loss: 0.2754 - val_acc: 0.8909\n",
            "Epoch 5/20\n",
            "30/30 [==============================] - 2s 52ms/step - loss: 0.1533 - acc: 0.9521 - val_loss: 0.2969 - val_acc: 0.8836\n",
            "Epoch 6/20\n",
            "30/30 [==============================] - 2s 53ms/step - loss: 0.1293 - acc: 0.9605 - val_loss: 0.2887 - val_acc: 0.8859\n",
            "Epoch 7/20\n",
            "30/30 [==============================] - 2s 53ms/step - loss: 0.1094 - acc: 0.9667 - val_loss: 0.2982 - val_acc: 0.8845\n",
            "Epoch 8/20\n",
            "30/30 [==============================] - 1s 45ms/step - loss: 0.0915 - acc: 0.9740 - val_loss: 0.3337 - val_acc: 0.8761\n",
            "Epoch 9/20\n",
            "30/30 [==============================] - 1s 47ms/step - loss: 0.0758 - acc: 0.9793 - val_loss: 0.3525 - val_acc: 0.8786\n",
            "Epoch 10/20\n",
            "30/30 [==============================] - 2s 60ms/step - loss: 0.0633 - acc: 0.9829 - val_loss: 0.3551 - val_acc: 0.8790\n",
            "Epoch 11/20\n",
            "30/30 [==============================] - 1s 41ms/step - loss: 0.0526 - acc: 0.9871 - val_loss: 0.3917 - val_acc: 0.8722\n",
            "Epoch 12/20\n",
            "30/30 [==============================] - 1s 40ms/step - loss: 0.0412 - acc: 0.9910 - val_loss: 0.4296 - val_acc: 0.8764\n",
            "Epoch 13/20\n",
            "30/30 [==============================] - 1s 40ms/step - loss: 0.0338 - acc: 0.9929 - val_loss: 0.4364 - val_acc: 0.8708\n",
            "Epoch 14/20\n",
            "30/30 [==============================] - 1s 41ms/step - loss: 0.0262 - acc: 0.9953 - val_loss: 0.4675 - val_acc: 0.8731\n",
            "Epoch 15/20\n",
            "30/30 [==============================] - 1s 41ms/step - loss: 0.0202 - acc: 0.9973 - val_loss: 0.5006 - val_acc: 0.8738\n",
            "Epoch 16/20\n",
            "30/30 [==============================] - 1s 40ms/step - loss: 0.0178 - acc: 0.9969 - val_loss: 0.5323 - val_acc: 0.8714\n",
            "Epoch 17/20\n",
            "30/30 [==============================] - 1s 47ms/step - loss: 0.0113 - acc: 0.9988 - val_loss: 0.5720 - val_acc: 0.8714\n",
            "Epoch 18/20\n",
            "30/30 [==============================] - 1s 43ms/step - loss: 0.0101 - acc: 0.9986 - val_loss: 0.6092 - val_acc: 0.8684\n",
            "Epoch 19/20\n",
            "30/30 [==============================] - 2s 53ms/step - loss: 0.0065 - acc: 0.9995 - val_loss: 0.6600 - val_acc: 0.8623\n",
            "Epoch 20/20\n",
            "30/30 [==============================] - 2s 51ms/step - loss: 0.0043 - acc: 0.9998 - val_loss: 0.6829 - val_acc: 0.8664\n"
          ]
        }
      ]
    },
    {
      "cell_type": "code",
      "source": [
        "history_dict=history.history\n",
        "history_dict.keys()"
      ],
      "metadata": {
        "colab": {
          "base_uri": "https://localhost:8080/"
        },
        "id": "SDnMZue_2mQ3",
        "outputId": "8bce3cca-0d3f-4e1d-a67a-f01bbafe84f5"
      },
      "execution_count": 39,
      "outputs": [
        {
          "output_type": "execute_result",
          "data": {
            "text/plain": [
              "dict_keys(['loss', 'acc', 'val_loss', 'val_acc'])"
            ]
          },
          "metadata": {},
          "execution_count": 39
        }
      ]
    },
    {
      "cell_type": "code",
      "source": [
        "#plotting - training and validation loss\n",
        "history_dict=history.history\n",
        "loss_values=history_dict['loss']\n",
        "val_loss_values = history_dict['val_loss']\n",
        "acc=history_dict['acc']\n",
        "epochs=range(1,len(acc)+1)\n",
        "\n",
        "plt.plot(epochs, loss_values,'bo',label='Training loss')\n",
        "plt.plot(epochs,val_loss_values,'b',label='Validation loss')\n",
        "plt.title('Training and validation loss')\n",
        "plt.xlabel('Epochs')\n",
        "plt.ylabel('Loss')\n",
        "plt.legend()"
      ],
      "metadata": {
        "colab": {
          "base_uri": "https://localhost:8080/",
          "height": 312
        },
        "id": "-jQ_cOK12mTd",
        "outputId": "b8cf26b7-fe93-49f7-c9b4-d9f19e192557"
      },
      "execution_count": 40,
      "outputs": [
        {
          "output_type": "execute_result",
          "data": {
            "text/plain": [
              "<matplotlib.legend.Legend at 0x7fd631d1c810>"
            ]
          },
          "metadata": {},
          "execution_count": 40
        },
        {
          "output_type": "display_data",
          "data": {
            "text/plain": [
              "<Figure size 432x288 with 1 Axes>"
            ],
            "image/png": "[encoded data removed]"
          },
          "metadata": {
            "needs_background": "light"
          }
        }
      ]
    },
    {
      "cell_type": "code",
      "source": [
        "plt.clf()\n",
        "acc_values = history_dict['acc']\n",
        "val_acc_values = history_dict['val_acc']\n",
        "plt.plot(epochs,acc_values,'bo',label='Training acc')\n",
        "plt.plot(epochs,val_acc_values,'b',label='Validation acc')\n",
        "plt.title('Training and validation acc')\n",
        "plt.xlabel('Epochs')\n",
        "plt.ylabel('Accuracy')\n",
        "plt.legend()\n",
        "plt.show()"
      ],
      "metadata": {
        "colab": {
          "base_uri": "https://localhost:8080/",
          "height": 295
        },
        "id": "GvM5yBHT2mWI",
        "outputId": "eb34b6f9-e205-416d-e3e2-9b0db461e62b"
      },
      "execution_count": 41,
      "outputs": [
        {
          "output_type": "display_data",
          "data": {
            "text/plain": [
              "<Figure size 432x288 with 1 Axes>"
            ],
            "image/png": "[encoded data removed]"
          },
          "metadata": {
            "needs_background": "light"
          }
        }
      ]
    },
    {
      "cell_type": "code",
      "source": [
        "performance = model.evaluate(x_test,y_test)"
      ],
      "metadata": {
        "colab": {
          "base_uri": "https://localhost:8080/"
        },
        "id": "W_Xx2gep03dT",
        "outputId": "b7a1dff0-0a64-428f-cbcd-b2cc6713a658"
      },
      "execution_count": 42,
      "outputs": [
        {
          "output_type": "stream",
          "name": "stdout",
          "text": [
            "782/782 [==============================] - 2s 3ms/step - loss: 0.7638 - acc: 0.8477\n"
          ]
        }
      ]
    },
    {
      "cell_type": "code",
      "source": [
        "model.predict(x_test)"
      ],
      "metadata": {
        "colab": {
          "base_uri": "https://localhost:8080/"
        },
        "id": "TR8K27tf03f6",
        "outputId": "1fa89960-1ee6-41e4-b8d0-f6d2bf86d812"
      },
      "execution_count": 43,
      "outputs": [
        {
          "output_type": "execute_result",
          "data": {
            "text/plain": [
              "array([[0.00542793],\n",
              "       [1.        ],\n",
              "       [0.99097157],\n",
              "       ...,\n",
              "       [0.00249773],\n",
              "       [0.00832304],\n",
              "       [0.59737813]], dtype=float32)"
            ]
          },
          "metadata": {},
          "execution_count": 43
        }
      ]
    },
    {
      "cell_type": "code",
      "source": [
        "from keras import regularizers\n",
        "model_1=models.Sequential()\n",
        "model_1.add(layers.Dense(16,kernel_regularizer=regularizers.l2(0.001), activation='relu',input_shape=(10000,)))\n",
        "model_1.add(layers.Dense(16,kernel_regularizer=regularizers.l2(0.001), activation='relu'))\n",
        "model_1.add(layers.Dense(1,activation='sigmoid'))"
      ],
      "metadata": {
        "id": "53kfcfcC03iw"
      },
      "execution_count": 44,
      "outputs": []
    },
    {
      "cell_type": "code",
      "source": [
        "model_1.compile(optimizer='rmsprop',loss='binary_crossentropy',metrics=['acc'])\n",
        "history=model_1.fit(partial_x_train,partial_y_train,epochs=20,batch_size=512,validation_data=(x_val,y_val))"
      ],
      "metadata": {
        "colab": {
          "base_uri": "https://localhost:8080/"
        },
        "id": "eSMOck-e03lW",
        "outputId": "4a9e9270-7f07-450d-fcee-ed713e469fe8"
      },
      "execution_count": 45,
      "outputs": [
        {
          "output_type": "stream",
          "name": "stdout",
          "text": [
            "Epoch 1/20\n",
            "30/30 [==============================] - 3s 63ms/step - loss: 0.5397 - acc: 0.7811 - val_loss: 0.4055 - val_acc: 0.8749\n",
            "Epoch 2/20\n",
            "30/30 [==============================] - 1s 49ms/step - loss: 0.3365 - acc: 0.9041 - val_loss: 0.3464 - val_acc: 0.8873\n",
            "Epoch 3/20\n",
            "30/30 [==============================] - 1s 48ms/step - loss: 0.2672 - acc: 0.9256 - val_loss: 0.3385 - val_acc: 0.8838\n",
            "Epoch 4/20\n",
            "30/30 [==============================] - 1s 50ms/step - loss: 0.2354 - acc: 0.9377 - val_loss: 0.3271 - val_acc: 0.8885\n",
            "Epoch 5/20\n",
            "30/30 [==============================] - 1s 42ms/step - loss: 0.2135 - acc: 0.9466 - val_loss: 0.3659 - val_acc: 0.8759\n",
            "Epoch 6/20\n",
            "30/30 [==============================] - 1s 45ms/step - loss: 0.2041 - acc: 0.9497 - val_loss: 0.3422 - val_acc: 0.8843\n",
            "Epoch 7/20\n",
            "30/30 [==============================] - 1s 40ms/step - loss: 0.1894 - acc: 0.9570 - val_loss: 0.3583 - val_acc: 0.8838\n",
            "Epoch 8/20\n",
            "30/30 [==============================] - 1s 45ms/step - loss: 0.1775 - acc: 0.9607 - val_loss: 0.4039 - val_acc: 0.8666\n",
            "Epoch 9/20\n",
            "30/30 [==============================] - 1s 49ms/step - loss: 0.1712 - acc: 0.9649 - val_loss: 0.4322 - val_acc: 0.8642\n",
            "Epoch 10/20\n",
            "30/30 [==============================] - 2s 51ms/step - loss: 0.1681 - acc: 0.9646 - val_loss: 0.3963 - val_acc: 0.8790\n",
            "Epoch 11/20\n",
            "30/30 [==============================] - 1s 42ms/step - loss: 0.1659 - acc: 0.9663 - val_loss: 0.3989 - val_acc: 0.8770\n",
            "Epoch 12/20\n",
            "30/30 [==============================] - 1s 48ms/step - loss: 0.1557 - acc: 0.9698 - val_loss: 0.4431 - val_acc: 0.8621\n",
            "Epoch 13/20\n",
            "30/30 [==============================] - 1s 50ms/step - loss: 0.1490 - acc: 0.9735 - val_loss: 0.4053 - val_acc: 0.8745\n",
            "Epoch 14/20\n",
            "30/30 [==============================] - 1s 42ms/step - loss: 0.1550 - acc: 0.9693 - val_loss: 0.4454 - val_acc: 0.8632\n",
            "Epoch 15/20\n",
            "30/30 [==============================] - 1s 40ms/step - loss: 0.1428 - acc: 0.9765 - val_loss: 0.4277 - val_acc: 0.8715\n",
            "Epoch 16/20\n",
            "30/30 [==============================] - 1s 41ms/step - loss: 0.1504 - acc: 0.9698 - val_loss: 0.4254 - val_acc: 0.8748\n",
            "Epoch 17/20\n",
            "30/30 [==============================] - 2s 60ms/step - loss: 0.1409 - acc: 0.9751 - val_loss: 0.4455 - val_acc: 0.8699\n",
            "Epoch 18/20\n",
            "30/30 [==============================] - 1s 48ms/step - loss: 0.1400 - acc: 0.9751 - val_loss: 0.4510 - val_acc: 0.8713\n",
            "Epoch 19/20\n",
            "30/30 [==============================] - 1s 39ms/step - loss: 0.1360 - acc: 0.9790 - val_loss: 0.4478 - val_acc: 0.8736\n",
            "Epoch 20/20\n",
            "30/30 [==============================] - 1s 38ms/step - loss: 0.1345 - acc: 0.9787 - val_loss: 0.6052 - val_acc: 0.8431\n"
          ]
        }
      ]
    },
    {
      "cell_type": "code",
      "source": [
        "history_dict=history.history\n",
        "loss_values=history_dict['loss']\n",
        "val_loss_values = history_dict['val_loss']\n",
        "acc=history_dict['acc']\n",
        "epochs=range(1,len(acc)+1)\n",
        "\n",
        "plt.plot(epochs, loss_values,'bo',label='Training loss')\n",
        "plt.plot(epochs,val_loss_values,'b',label='Validation loss')\n",
        "plt.title('Training and validation loss')\n",
        "plt.xlabel('Epochs')\n",
        "plt.ylabel('Loss')\n",
        "plt.legend()"
      ],
      "metadata": {
        "colab": {
          "base_uri": "https://localhost:8080/",
          "height": 312
        },
        "id": "20HzVCSr03n9",
        "outputId": "fcb18232-8ba8-47f3-ec72-1b90041e5f8d"
      },
      "execution_count": 46,
      "outputs": [
        {
          "output_type": "execute_result",
          "data": {
            "text/plain": [
              "<matplotlib.legend.Legend at 0x7fd641af7310>"
            ]
          },
          "metadata": {},
          "execution_count": 46
        },
        {
          "output_type": "display_data",
          "data": {
            "text/plain": [
              "<Figure size 432x288 with 1 Axes>"
            ],
            "image/png": "[encoded data removed]"
          },
          "metadata": {
            "needs_background": "light"
          }
        }
      ]
    },
    {
      "cell_type": "code",
      "source": [
        "plt.clf()\n",
        "acc_values = history_dict['acc']\n",
        "val_acc_values = history_dict['val_acc']\n",
        "plt.plot(epochs,acc_values,'bo',label='Training acc')\n",
        "plt.plot(epochs,val_acc_values,'b',label='Validation acc')\n",
        "plt.title('Training and validation acc')\n",
        "plt.xlabel('Epochs')\n",
        "plt.ylabel('Accuracy')\n",
        "plt.legend()\n",
        "plt.show()"
      ],
      "metadata": {
        "colab": {
          "base_uri": "https://localhost:8080/",
          "height": 295
        },
        "id": "ySak3vgo03rG",
        "outputId": "74ef5117-09c1-4f45-cafb-7df32b27d2a3"
      },
      "execution_count": 47,
      "outputs": [
        {
          "output_type": "display_data",
          "data": {
            "text/plain": [
              "<Figure size 432x288 with 1 Axes>"
            ],
            "image/png": "[encoded data removed]"
          },
          "metadata": {
            "needs_background": "light"
          }
        }
      ]
    },
    {
      "cell_type": "code",
      "source": [
        "model_1=models.Sequential()\n",
        "model_1.add(layers.Dense(16,kernel_regularizer=regularizers.l2(0.006), activation='relu',input_shape=(10000,)))\n",
        "model_1.add(layers.Dense(16,kernel_regularizer=regularizers.l2(0.006), activation='relu'))\n",
        "model_1.add(layers.Dense(1,activation='sigmoid'))\n",
        "model_1.compile(optimizer='rmsprop',loss='binary_crossentropy',metrics=['acc'])\n",
        "history=model_1.fit(partial_x_train,partial_y_train,epochs=20,batch_size=512,validation_data=(x_val,y_val))"
      ],
      "metadata": {
        "colab": {
          "base_uri": "https://localhost:8080/"
        },
        "id": "waoumuAw03t_",
        "outputId": "0b26cabc-8c6c-454e-f2e5-feb2973495cc"
      },
      "execution_count": 49,
      "outputs": [
        {
          "output_type": "stream",
          "name": "stdout",
          "text": [
            "Epoch 1/20\n",
            "30/30 [==============================] - 2s 57ms/step - loss: 0.7186 - acc: 0.7720 - val_loss: 0.5761 - val_acc: 0.8521\n",
            "Epoch 2/20\n",
            "30/30 [==============================] - 1s 39ms/step - loss: 0.5140 - acc: 0.8831 - val_loss: 0.5011 - val_acc: 0.8717\n",
            "Epoch 3/20\n",
            "30/30 [==============================] - 2s 69ms/step - loss: 0.4498 - acc: 0.8987 - val_loss: 0.4566 - val_acc: 0.8807\n",
            "Epoch 4/20\n",
            "30/30 [==============================] - 2s 52ms/step - loss: 0.4149 - acc: 0.9053 - val_loss: 0.4378 - val_acc: 0.8818\n",
            "Epoch 5/20\n",
            "30/30 [==============================] - 2s 56ms/step - loss: 0.3855 - acc: 0.9095 - val_loss: 0.4273 - val_acc: 0.8806\n",
            "Epoch 6/20\n",
            "30/30 [==============================] - 2s 52ms/step - loss: 0.3706 - acc: 0.9137 - val_loss: 0.4418 - val_acc: 0.8693\n",
            "Epoch 7/20\n",
            "30/30 [==============================] - 1s 41ms/step - loss: 0.3578 - acc: 0.9190 - val_loss: 0.4156 - val_acc: 0.8828\n",
            "Epoch 8/20\n",
            "30/30 [==============================] - 1s 42ms/step - loss: 0.3478 - acc: 0.9210 - val_loss: 0.4512 - val_acc: 0.8613\n",
            "Epoch 9/20\n",
            "30/30 [==============================] - 1s 44ms/step - loss: 0.3393 - acc: 0.9216 - val_loss: 0.4167 - val_acc: 0.8788\n",
            "Epoch 10/20\n",
            "30/30 [==============================] - 2s 51ms/step - loss: 0.3337 - acc: 0.9228 - val_loss: 0.4842 - val_acc: 0.8420\n",
            "Epoch 11/20\n",
            "30/30 [==============================] - 2s 51ms/step - loss: 0.3321 - acc: 0.9225 - val_loss: 0.4067 - val_acc: 0.8819\n",
            "Epoch 12/20\n",
            "30/30 [==============================] - 2s 51ms/step - loss: 0.3222 - acc: 0.9277 - val_loss: 0.4057 - val_acc: 0.8813\n",
            "Epoch 13/20\n",
            "30/30 [==============================] - 2s 51ms/step - loss: 0.3218 - acc: 0.9264 - val_loss: 0.4088 - val_acc: 0.8791\n",
            "Epoch 14/20\n",
            "30/30 [==============================] - 2s 51ms/step - loss: 0.3129 - acc: 0.9315 - val_loss: 0.4263 - val_acc: 0.8752\n",
            "Epoch 15/20\n",
            "30/30 [==============================] - 2s 50ms/step - loss: 0.3150 - acc: 0.9277 - val_loss: 0.4431 - val_acc: 0.8613\n",
            "Epoch 16/20\n",
            "30/30 [==============================] - 2s 62ms/step - loss: 0.3088 - acc: 0.9332 - val_loss: 0.4704 - val_acc: 0.8498\n",
            "Epoch 17/20\n",
            "30/30 [==============================] - 2s 51ms/step - loss: 0.3073 - acc: 0.9326 - val_loss: 0.4040 - val_acc: 0.8827\n",
            "Epoch 18/20\n",
            "30/30 [==============================] - 1s 48ms/step - loss: 0.3045 - acc: 0.9329 - val_loss: 0.4053 - val_acc: 0.8801\n",
            "Epoch 19/20\n",
            "30/30 [==============================] - 1s 39ms/step - loss: 0.3069 - acc: 0.9303 - val_loss: 0.4259 - val_acc: 0.8680\n",
            "Epoch 20/20\n",
            "30/30 [==============================] - 1s 38ms/step - loss: 0.3025 - acc: 0.9331 - val_loss: 0.4436 - val_acc: 0.8690\n"
          ]
        }
      ]
    },
    {
      "cell_type": "code",
      "source": [
        "history_dict=history.history\n",
        "loss_values=history_dict['loss']\n",
        "val_loss_values = history_dict['val_loss']\n",
        "acc=history_dict['acc']\n",
        "epochs=range(1,len(acc)+1)\n",
        "\n",
        "plt.plot(epochs, loss_values,'bo',label='Training loss')\n",
        "plt.plot(epochs,val_loss_values,'b',label='Validation loss')\n",
        "plt.title('Training and validation loss')\n",
        "plt.xlabel('Epochs')\n",
        "plt.ylabel('Loss')\n",
        "plt.legend()"
      ],
      "metadata": {
        "colab": {
          "base_uri": "https://localhost:8080/",
          "height": 312
        },
        "id": "U-Zhbqoc03wl",
        "outputId": "753d9f14-1f3d-4380-9300-320f3d949a7c"
      },
      "execution_count": 50,
      "outputs": [
        {
          "output_type": "execute_result",
          "data": {
            "text/plain": [
              "<matplotlib.legend.Legend at 0x7fd633ff2f10>"
            ]
          },
          "metadata": {},
          "execution_count": 50
        },
        {
          "output_type": "display_data",
          "data": {
            "text/plain": [
              "<Figure size 432x288 with 1 Axes>"
            ],
            "image/png": "[encoded data removed]"
          },
          "metadata": {
            "needs_background": "light"
          }
        }
      ]
    },
    {
      "cell_type": "code",
      "source": [
        "plt.clf()\n",
        "acc_values = history_dict['acc']\n",
        "val_acc_values = history_dict['val_acc']\n",
        "plt.plot(epochs,acc_values,'bo',label='Training acc')\n",
        "plt.plot(epochs,val_acc_values,'b',label='Validation acc')\n",
        "plt.title('Training and validation acc')\n",
        "plt.xlabel('Epochs')\n",
        "plt.ylabel('Accuracy')\n",
        "plt.legend()\n",
        "plt.show()"
      ],
      "metadata": {
        "colab": {
          "base_uri": "https://localhost:8080/",
          "height": 295
        },
        "id": "IXXY91ym03zJ",
        "outputId": "c0bea688-ec70-4470-bae5-b798385066a5"
      },
      "execution_count": 51,
      "outputs": [
        {
          "output_type": "display_data",
          "data": {
            "text/plain": [
              "<Figure size 432x288 with 1 Axes>"
            ],
            "image/png": "[encoded data removed]"
          },
          "metadata": {
            "needs_background": "light"
          }
        }
      ]
    },
    {
      "cell_type": "markdown",
      "source": [
        "#Conclusion:\n",
        "1) Used regularization technique to reduce the errors by fitting the function appropriately on the given training set and avoid overfitting. \n"
      ],
      "metadata": {
        "id": "tId1hRAKV_mJ"
      }
    }
  ]
}