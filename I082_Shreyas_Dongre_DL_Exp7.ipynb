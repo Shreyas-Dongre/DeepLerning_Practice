{
  "nbformat": 4,
  "nbformat_minor": 0,
  "metadata": {
    "colab": {
      "provenance": [],
      "collapsed_sections": []
    },
    "kernelspec": {
      "name": "python3",
      "display_name": "Python 3"
    },
    "language_info": {
      "name": "python"
    }
  },
  "cells": [
    {
      "cell_type": "markdown",
      "source": [
        "Name: Shreyas Dongre   \n",
        "Roll no: 082          \n",
        "Stream: CS (AI)      \n",
        "Division: I                         \n",
        "Semester: 5th Semester                                           \n",
        "Batch: I-3            \n",
        "                                                                       Date: 17/9/2022       \n",
        "Subject: DL\n",
        "###Assignment-7"
      ],
      "metadata": {
        "id": "sigu8YWTwc4A"
      }
    },
    {
      "cell_type": "code",
      "execution_count": 15,
      "metadata": {
        "id": "Zmb50ER2wcV6"
      },
      "outputs": [],
      "source": [
        "import tensorflow as tf\n",
        "import numpy as np\n",
        "import matplotlib.pyplot as plt\n",
        "import pandas as pd"
      ]
    },
    {
      "cell_type": "code",
      "source": [
        "from keras.datasets import mnist\n",
        "\n",
        "(xtrain,ytrain),(xtest,ytest) = mnist.load_data()"
      ],
      "metadata": {
        "id": "F51S6QFkwd0J"
      },
      "execution_count": 16,
      "outputs": []
    },
    {
      "cell_type": "code",
      "source": [
        "xtrain.shape"
      ],
      "metadata": {
        "colab": {
          "base_uri": "https://localhost:8080/"
        },
        "id": "XQfg4Jlpwd2_",
        "outputId": "02c0cc83-3e11-4c35-d370-6bcbf56ced0a"
      },
      "execution_count": 17,
      "outputs": [
        {
          "output_type": "execute_result",
          "data": {
            "text/plain": [
              "(60000, 28, 28)"
            ]
          },
          "metadata": {},
          "execution_count": 17
        }
      ]
    },
    {
      "cell_type": "code",
      "source": [
        "ytrain.shape"
      ],
      "metadata": {
        "colab": {
          "base_uri": "https://localhost:8080/"
        },
        "id": "gPAC0rV-wd51",
        "outputId": "047cf1d7-64e0-4b3f-ea0e-f08c8a41b6b8"
      },
      "execution_count": 18,
      "outputs": [
        {
          "output_type": "execute_result",
          "data": {
            "text/plain": [
              "(60000,)"
            ]
          },
          "metadata": {},
          "execution_count": 18
        }
      ]
    },
    {
      "cell_type": "code",
      "source": [
        "xtest.shape"
      ],
      "metadata": {
        "colab": {
          "base_uri": "https://localhost:8080/"
        },
        "id": "uK_Jcgjiwd8x",
        "outputId": "9187862f-4264-4c32-e1ea-c49972ed9e66"
      },
      "execution_count": 19,
      "outputs": [
        {
          "output_type": "execute_result",
          "data": {
            "text/plain": [
              "(10000, 28, 28)"
            ]
          },
          "metadata": {},
          "execution_count": 19
        }
      ]
    },
    {
      "cell_type": "code",
      "source": [
        "plt.imshow(xtrain[0])"
      ],
      "metadata": {
        "colab": {
          "base_uri": "https://localhost:8080/",
          "height": 282
        },
        "id": "cM5zvG0pwd_G",
        "outputId": "b3019ef9-8851-40a2-d879-fb271477bc2a"
      },
      "execution_count": 20,
      "outputs": [
        {
          "output_type": "execute_result",
          "data": {
            "text/plain": [
              "<matplotlib.image.AxesImage at 0x7f78fecd5550>"
            ]
          },
          "metadata": {},
          "execution_count": 20
        },
        {
          "output_type": "display_data",
          "data": {
            "text/plain": [
              "<Figure size 432x288 with 1 Axes>"
            ],
            "image/png": "[encoded data removed]"
          },
          "metadata": {
            "needs_background": "light"
          }
        }
      ]
    },
    {
      "cell_type": "code",
      "source": [
        "#build ip vector\n",
        "x_train = xtrain.reshape(xtrain.shape[0],28,28,1)"
      ],
      "metadata": {
        "id": "lxW49p5CweCO"
      },
      "execution_count": 21,
      "outputs": []
    },
    {
      "cell_type": "code",
      "source": [
        "x_train.shape"
      ],
      "metadata": {
        "colab": {
          "base_uri": "https://localhost:8080/"
        },
        "id": "r6wmpwHVweFS",
        "outputId": "919cbdcf-e218-4725-e3a8-927a4907bd9e"
      },
      "execution_count": 22,
      "outputs": [
        {
          "output_type": "execute_result",
          "data": {
            "text/plain": [
              "(60000, 28, 28, 1)"
            ]
          },
          "metadata": {},
          "execution_count": 22
        }
      ]
    },
    {
      "cell_type": "code",
      "source": [
        "x_train=x_train.astype('float32')\n",
        "x_test=xtest.astype('float32')"
      ],
      "metadata": {
        "id": "CcXOSbpjweIH"
      },
      "execution_count": 23,
      "outputs": []
    },
    {
      "cell_type": "code",
      "source": [
        "x_train /= 255\n",
        "x_test /= 255"
      ],
      "metadata": {
        "id": "bIVgIfwP18Kx"
      },
      "execution_count": 24,
      "outputs": []
    },
    {
      "cell_type": "code",
      "source": [
        "#one hot encoding for ytrain ytest\n",
        "from sklearn.preprocessing import OneHotEncoder\n",
        "onehot = OneHotEncoder(sparse=False)"
      ],
      "metadata": {
        "id": "-qAOSCGj18NR"
      },
      "execution_count": 26,
      "outputs": []
    },
    {
      "cell_type": "code",
      "source": [
        "ytrain = ytrain.reshape((-1,1))\n",
        "y_onehot1 = onehot.fit_transform(ytrain)\n",
        "ytest = ytest.reshape((-1,1))\n",
        "y_onehot2 = onehot.fit_transform(ytest)"
      ],
      "metadata": {
        "id": "Tx5nyGCR18Ps"
      },
      "execution_count": 27,
      "outputs": []
    },
    {
      "cell_type": "code",
      "source": [
        "y_onehot1.shape"
      ],
      "metadata": {
        "colab": {
          "base_uri": "https://localhost:8080/"
        },
        "id": "BTTTMEtQ18Sy",
        "outputId": "6e223081-9e0a-4fa1-d719-2476571de94c"
      },
      "execution_count": 28,
      "outputs": [
        {
          "output_type": "execute_result",
          "data": {
            "text/plain": [
              "(60000, 10)"
            ]
          },
          "metadata": {},
          "execution_count": 28
        }
      ]
    },
    {
      "cell_type": "code",
      "source": [
        "y_onehot1"
      ],
      "metadata": {
        "colab": {
          "base_uri": "https://localhost:8080/"
        },
        "id": "yb8JzgLw18VW",
        "outputId": "81fb3697-e8f7-463b-b6ae-c12a34a63208"
      },
      "execution_count": 29,
      "outputs": [
        {
          "output_type": "execute_result",
          "data": {
            "text/plain": [
              "array([[0., 0., 0., ..., 0., 0., 0.],\n",
              "       [1., 0., 0., ..., 0., 0., 0.],\n",
              "       [0., 0., 0., ..., 0., 0., 0.],\n",
              "       ...,\n",
              "       [0., 0., 0., ..., 0., 0., 0.],\n",
              "       [0., 0., 0., ..., 0., 0., 0.],\n",
              "       [0., 0., 0., ..., 0., 1., 0.]])"
            ]
          },
          "metadata": {},
          "execution_count": 29
        }
      ]
    },
    {
      "cell_type": "code",
      "source": [
        "y_onehot2.shape"
      ],
      "metadata": {
        "colab": {
          "base_uri": "https://localhost:8080/"
        },
        "id": "FpHv4nV718YD",
        "outputId": "a3665695-31e2-4b3d-f147-b3bd6130cae5"
      },
      "execution_count": 30,
      "outputs": [
        {
          "output_type": "execute_result",
          "data": {
            "text/plain": [
              "(10000, 10)"
            ]
          },
          "metadata": {},
          "execution_count": 30
        }
      ]
    },
    {
      "cell_type": "code",
      "source": [
        "from keras.models import Sequential\n",
        "from keras.layers import Dense, Dropout, Conv2D, MaxPool2D, Flatten\n",
        "\n",
        "model1=Sequential()\n",
        "#conv layer\n",
        "model1.add(Conv2D(30, kernel_size=(3,3),strides=(1,1),padding='valid',activation='relu',input_shape=(28,28,1)))"
      ],
      "metadata": {
        "id": "YraHnuES18at"
      },
      "execution_count": 35,
      "outputs": []
    },
    {
      "cell_type": "code",
      "source": [
        "#pooling layer\n",
        "model1.add(MaxPool2D(pool_size=(2,2)))\n",
        "\n",
        "#flatten\n",
        "model1.add(Flatten())\n",
        "\n",
        "#dense layer\n",
        "model1.add(Dense(100,activation='relu'))"
      ],
      "metadata": {
        "id": "D8_lyuOk18dV"
      },
      "execution_count": 36,
      "outputs": []
    },
    {
      "cell_type": "code",
      "source": [
        "#output\n",
        "model1.add(Dense(10,activation='softmax'))"
      ],
      "metadata": {
        "id": "bAXOPwyN18f9"
      },
      "execution_count": 37,
      "outputs": []
    },
    {
      "cell_type": "code",
      "source": [
        "model1.summary()"
      ],
      "metadata": {
        "colab": {
          "base_uri": "https://localhost:8080/"
        },
        "id": "DQhnIc6d6FM8",
        "outputId": "700ca7dd-e3be-41c2-b17a-8a429f5fcec0"
      },
      "execution_count": 38,
      "outputs": [
        {
          "output_type": "stream",
          "name": "stdout",
          "text": [
            "Model: \"sequential_1\"\n",
            "_________________________________________________________________\n",
            " Layer (type)                Output Shape              Param #   \n",
            "=================================================================\n",
            " conv2d_1 (Conv2D)           (None, 26, 26, 30)        300       \n",
            "                                                                 \n",
            " max_pooling2d_1 (MaxPooling  (None, 13, 13, 30)       0         \n",
            " 2D)                                                             \n",
            "                                                                 \n",
            " flatten_1 (Flatten)         (None, 5070)              0         \n",
            "                                                                 \n",
            " dense_2 (Dense)             (None, 100)               507100    \n",
            "                                                                 \n",
            " dense_3 (Dense)             (None, 10)                1010      \n",
            "                                                                 \n",
            "=================================================================\n",
            "Total params: 508,410\n",
            "Trainable params: 508,410\n",
            "Non-trainable params: 0\n",
            "_________________________________________________________________\n"
          ]
        }
      ]
    },
    {
      "cell_type": "code",
      "source": [
        "model1.compile(loss='CategoricalCrossentropy', metrics=['accuracy'])\n",
        "history1=model1.fit(xtrain,y_onehot1, epochs=20)"
      ],
      "metadata": {
        "colab": {
          "base_uri": "https://localhost:8080/"
        },
        "id": "yBcoywPr6FPl",
        "outputId": "bd4f6b9b-bd1f-4447-bcde-bf5e98f89092"
      },
      "execution_count": 42,
      "outputs": [
        {
          "output_type": "stream",
          "name": "stdout",
          "text": [
            "Epoch 1/20\n",
            "1875/1875 [==============================] - 37s 19ms/step - loss: 0.4441 - accuracy: 0.9452\n",
            "Epoch 2/20\n",
            "1875/1875 [==============================] - 34s 18ms/step - loss: 0.0749 - accuracy: 0.9800\n",
            "Epoch 3/20\n",
            "1875/1875 [==============================] - 34s 18ms/step - loss: 0.0561 - accuracy: 0.9859\n",
            "Epoch 4/20\n",
            "1875/1875 [==============================] - 35s 19ms/step - loss: 0.0465 - accuracy: 0.9882\n",
            "Epoch 5/20\n",
            "1875/1875 [==============================] - 34s 18ms/step - loss: 0.0385 - accuracy: 0.9906\n",
            "Epoch 6/20\n",
            "1875/1875 [==============================] - 34s 18ms/step - loss: 0.0345 - accuracy: 0.9916\n",
            "Epoch 7/20\n",
            "1875/1875 [==============================] - 35s 19ms/step - loss: 0.0304 - accuracy: 0.9929\n",
            "Epoch 8/20\n",
            "1875/1875 [==============================] - 34s 18ms/step - loss: 0.0262 - accuracy: 0.9941\n",
            "Epoch 9/20\n",
            "1875/1875 [==============================] - 34s 18ms/step - loss: 0.0244 - accuracy: 0.9948\n",
            "Epoch 10/20\n",
            "1875/1875 [==============================] - 35s 19ms/step - loss: 0.0194 - accuracy: 0.9963\n",
            "Epoch 11/20\n",
            "1875/1875 [==============================] - 34s 18ms/step - loss: 0.0157 - accuracy: 0.9968\n",
            "Epoch 12/20\n",
            "1875/1875 [==============================] - 34s 18ms/step - loss: 0.0156 - accuracy: 0.9971\n",
            "Epoch 13/20\n",
            "1875/1875 [==============================] - 36s 19ms/step - loss: 0.0149 - accuracy: 0.9976\n",
            "Epoch 14/20\n",
            "1875/1875 [==============================] - 34s 18ms/step - loss: 0.0109 - accuracy: 0.9981\n",
            "Epoch 15/20\n",
            "1875/1875 [==============================] - 34s 18ms/step - loss: 0.0110 - accuracy: 0.9979\n",
            "Epoch 16/20\n",
            "1875/1875 [==============================] - 36s 19ms/step - loss: 0.0102 - accuracy: 0.9982\n",
            "Epoch 17/20\n",
            "1875/1875 [==============================] - 34s 18ms/step - loss: 0.0062 - accuracy: 0.9988\n",
            "Epoch 18/20\n",
            "1875/1875 [==============================] - 34s 18ms/step - loss: 0.0085 - accuracy: 0.9987\n",
            "Epoch 19/20\n",
            "1875/1875 [==============================] - 36s 19ms/step - loss: 0.0054 - accuracy: 0.9991\n",
            "Epoch 20/20\n",
            "1875/1875 [==============================] - 34s 18ms/step - loss: 0.0058 - accuracy: 0.9991\n"
          ]
        }
      ]
    },
    {
      "cell_type": "code",
      "source": [
        "(xtrain,ytrain),(xtest,ytest) = mnist.load_data()\n",
        "xtrain = xtrain / 255.0\n",
        "xtest = xtest / 255.0\n",
        "xtrain = tf.expand_dims(xtrain, 3)\n",
        "xtest = tf.expand_dims(xtest, 3)\n",
        "val_x = xtrain[:5000]\n",
        "val_y = ytrain[:5000]"
      ],
      "metadata": {
        "id": "H_99IggOCvfR"
      },
      "execution_count": 57,
      "outputs": []
    },
    {
      "cell_type": "code",
      "source": [
        "#Implementing LeNet Architecture\n",
        "from tensorflow import keras\n",
        "lenet_5_model = keras.models.Sequential([\n",
        "    keras.layers.Conv2D(6, kernel_size=5, strides=1,  activation='tanh', input_shape=x_train[0].shape, padding='same'), #C1\n",
        "    keras.layers.AveragePooling2D(), #S2\n",
        "    keras.layers.Conv2D(16, kernel_size=5, strides=1, activation='tanh', padding='valid'), #C3\n",
        "    keras.layers.AveragePooling2D(), #S4\n",
        "    keras.layers.Conv2D(120, kernel_size=5, strides=1, activation='tanh', padding='valid'), #C5\n",
        "    keras.layers.Flatten(), #Flatten    \n",
        "    keras.layers.Dense(84, activation='tanh'), #F6\n",
        "    keras.layers.Dense(10, activation='softmax') #Output layer\n",
        "])"
      ],
      "metadata": {
        "id": "1qlogr8I6FR5"
      },
      "execution_count": 58,
      "outputs": []
    },
    {
      "cell_type": "code",
      "source": [
        "lenet_5_model.compile(optimizer='adam', loss=keras.losses.sparse_categorical_crossentropy, metrics=['accuracy'])"
      ],
      "metadata": {
        "id": "bMnSMHNQ6FUo"
      },
      "execution_count": 59,
      "outputs": []
    },
    {
      "cell_type": "code",
      "source": [
        "lenet_5_model.fit(x_train, ytrain, epochs=5, validation_data=(val_x, val_y))"
      ],
      "metadata": {
        "colab": {
          "base_uri": "https://localhost:8080/"
        },
        "id": "QRqDTybR6FXR",
        "outputId": "c6878888-c0d5-4f9f-c770-fb5c3fad74df"
      },
      "execution_count": 60,
      "outputs": [
        {
          "output_type": "stream",
          "name": "stdout",
          "text": [
            "Epoch 1/5\n",
            "1875/1875 [==============================] - 39s 20ms/step - loss: 0.2244 - accuracy: 0.9325 - val_loss: 0.0850 - val_accuracy: 0.9754\n",
            "Epoch 2/5\n",
            "1875/1875 [==============================] - 39s 21ms/step - loss: 0.0879 - accuracy: 0.9731 - val_loss: 0.0566 - val_accuracy: 0.9842\n",
            "Epoch 3/5\n",
            "1875/1875 [==============================] - 40s 21ms/step - loss: 0.0595 - accuracy: 0.9813 - val_loss: 0.0403 - val_accuracy: 0.9876\n",
            "Epoch 4/5\n",
            "1875/1875 [==============================] - 39s 21ms/step - loss: 0.0460 - accuracy: 0.9852 - val_loss: 0.0411 - val_accuracy: 0.9876\n",
            "Epoch 5/5\n",
            "1875/1875 [==============================] - 39s 21ms/step - loss: 0.0356 - accuracy: 0.9882 - val_loss: 0.0278 - val_accuracy: 0.9914\n"
          ]
        },
        {
          "output_type": "execute_result",
          "data": {
            "text/plain": [
              "<keras.callbacks.History at 0x7f78f65d3cd0>"
            ]
          },
          "metadata": {},
          "execution_count": 60
        }
      ]
    },
    {
      "cell_type": "code",
      "source": [
        "lenet_5_model.evaluate(xtest, ytest)"
      ],
      "metadata": {
        "colab": {
          "base_uri": "https://localhost:8080/"
        },
        "id": "b6J0s3A16FZp",
        "outputId": "cc58a49f-6fb3-445c-ca44-bf80363484ce"
      },
      "execution_count": 61,
      "outputs": [
        {
          "output_type": "stream",
          "name": "stdout",
          "text": [
            "313/313 [==============================] - 3s 11ms/step - loss: 0.0531 - accuracy: 0.9830\n"
          ]
        },
        {
          "output_type": "execute_result",
          "data": {
            "text/plain": [
              "[0.05307375639677048, 0.9829999804496765]"
            ]
          },
          "metadata": {},
          "execution_count": 61
        }
      ]
    },
    {
      "cell_type": "markdown",
      "source": [
        "#Conclusion:\n",
        "1) Using more number of filters in model increases the total parameters in the network.                         \n",
        "2) We got a better accuracy of 99.91 % in normal CNN model as compared to LeNet-5 with 98.3 % accuracy."
      ],
      "metadata": {
        "id": "_zn3SMXbwjYD"
      }
    }
  ]
}