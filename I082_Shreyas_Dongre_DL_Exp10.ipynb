{
  "nbformat": 4,
  "nbformat_minor": 0,
  "metadata": {
    "colab": {
      "provenance": [],
      "collapsed_sections": []
    },
    "kernelspec": {
      "name": "python3",
      "display_name": "Python 3"
    },
    "language_info": {
      "name": "python"
    }
  },
  "cells": [
    {
      "cell_type": "markdown",
      "source": [
        "Name: Shreyas Dongre   \n",
        "Roll no: 082          \n",
        "Stream: CS (AI)      \n",
        "Division: I                         \n",
        "Semester: 5th Semester                                           \n",
        "Batch: I-3            \n",
        "                                                                       Date: 18/10/2022       \n",
        "Subject: DL\n",
        "###Assignment-10"
      ],
      "metadata": {
        "id": "DXslhTzQbZL4"
      }
    },
    {
      "cell_type": "code",
      "execution_count": 58,
      "metadata": {
        "id": "Woj0RZqpbYMh"
      },
      "outputs": [],
      "source": [
        "import pandas as pd\n",
        "df = pd.read_csv('NSE-TATAGLOBAL.csv',encoding = 'unicode_escape')"
      ]
    },
    {
      "cell_type": "code",
      "source": [
        "df.shape"
      ],
      "metadata": {
        "colab": {
          "base_uri": "https://localhost:8080/"
        },
        "id": "vm4rnNYgbaD0",
        "outputId": "5f214e05-cb0c-4272-d3f9-184a62bc0c50"
      },
      "execution_count": 59,
      "outputs": [
        {
          "output_type": "execute_result",
          "data": {
            "text/plain": [
              "(2035, 8)"
            ]
          },
          "metadata": {},
          "execution_count": 59
        }
      ]
    },
    {
      "cell_type": "code",
      "source": [
        "newdf = df.iloc[60:2035,1:2]\n",
        "newdf.shape"
      ],
      "metadata": {
        "colab": {
          "base_uri": "https://localhost:8080/"
        },
        "id": "hB5dRwCdrbRU",
        "outputId": "d3b497ac-621e-40c9-95f6-ca42ed37f127"
      },
      "execution_count": 62,
      "outputs": [
        {
          "output_type": "execute_result",
          "data": {
            "text/plain": [
              "(1975, 1)"
            ]
          },
          "metadata": {},
          "execution_count": 62
        }
      ]
    },
    {
      "cell_type": "code",
      "source": [
        "train_data = df.iloc[:,1:2]"
      ],
      "metadata": {
        "id": "-NL1DZMObaGa"
      },
      "execution_count": 2,
      "outputs": []
    },
    {
      "cell_type": "code",
      "source": [
        "train_data.shape"
      ],
      "metadata": {
        "colab": {
          "base_uri": "https://localhost:8080/"
        },
        "id": "67CSw6tGbaI3",
        "outputId": "4f38c4f0-37f4-4a9e-b59f-49d2993f5a3d"
      },
      "execution_count": 3,
      "outputs": [
        {
          "output_type": "execute_result",
          "data": {
            "text/plain": [
              "(2035, 1)"
            ]
          },
          "metadata": {},
          "execution_count": 3
        }
      ]
    },
    {
      "cell_type": "code",
      "source": [
        "train_data.head"
      ],
      "metadata": {
        "colab": {
          "base_uri": "https://localhost:8080/"
        },
        "id": "d_407E4EbaLS",
        "outputId": "91b4bb04-e921-4537-cdad-ed989956222c"
      },
      "execution_count": 4,
      "outputs": [
        {
          "output_type": "execute_result",
          "data": {
            "text/plain": [
              "<bound method NDFrame.head of         Open\n",
              "0     234.05\n",
              "1     234.55\n",
              "2     240.00\n",
              "3     233.30\n",
              "4     233.55\n",
              "...      ...\n",
              "2030  117.60\n",
              "2031  120.10\n",
              "2032  121.80\n",
              "2033  120.30\n",
              "2034  122.10\n",
              "\n",
              "[2035 rows x 1 columns]>"
            ]
          },
          "metadata": {},
          "execution_count": 4
        }
      ]
    },
    {
      "cell_type": "code",
      "source": [
        "#feature  normalization\n",
        "train_data = train_data.values"
      ],
      "metadata": {
        "id": "w4ik-23sqTkA"
      },
      "execution_count": 5,
      "outputs": []
    },
    {
      "cell_type": "code",
      "source": [
        "from sklearn.preprocessing import MinMaxScaler\n",
        "scale = MinMaxScaler(feature_range=(0,1))\n",
        "train_data_scaled=scale.fit_transform(train_data)"
      ],
      "metadata": {
        "id": "HoccXQOWbaN7"
      },
      "execution_count": 6,
      "outputs": []
    },
    {
      "cell_type": "code",
      "source": [
        "#convert to timestamp of 60\n",
        "import numpy as np\n",
        "x_train =[]\n",
        "y_train = []\n",
        "for i in range (60,2035):\n",
        "  x_train.append(train_data_scaled[i-60:i,0])\n",
        "  y_train.append(train_data_scaled[i,0])\n",
        "x_train,y_train=np.array(x_train), np.array(y_train)  "
      ],
      "metadata": {
        "id": "W4YJRIT2baQs"
      },
      "execution_count": 7,
      "outputs": []
    },
    {
      "cell_type": "code",
      "source": [
        "x_train.shape"
      ],
      "metadata": {
        "colab": {
          "base_uri": "https://localhost:8080/"
        },
        "id": "fLwT3qfebaTV",
        "outputId": "6bfe8686-796d-4062-cad3-f5b7356ef94b"
      },
      "execution_count": 8,
      "outputs": [
        {
          "output_type": "execute_result",
          "data": {
            "text/plain": [
              "(1975, 60)"
            ]
          },
          "metadata": {},
          "execution_count": 8
        }
      ]
    },
    {
      "cell_type": "code",
      "source": [
        "#reshaping to 3D array\n",
        "x_train = np.reshape(x_train,(x_train.shape[0],x_train.shape[1],1))"
      ],
      "metadata": {
        "id": "-3sEU_MqbaV3"
      },
      "execution_count": 9,
      "outputs": []
    },
    {
      "cell_type": "code",
      "source": [
        "x_train.shape"
      ],
      "metadata": {
        "colab": {
          "base_uri": "https://localhost:8080/"
        },
        "id": "Wc380YITbaYs",
        "outputId": "b832aaff-f940-43ae-a2e3-cd12376fdde4"
      },
      "execution_count": 10,
      "outputs": [
        {
          "output_type": "execute_result",
          "data": {
            "text/plain": [
              "(1975, 60, 1)"
            ]
          },
          "metadata": {},
          "execution_count": 10
        }
      ]
    },
    {
      "cell_type": "code",
      "source": [
        "y_train.shape"
      ],
      "metadata": {
        "colab": {
          "base_uri": "https://localhost:8080/"
        },
        "id": "toHpfjc9wzJh",
        "outputId": "54de3a71-b354-466f-e67c-c67ea13f1b6b"
      },
      "execution_count": 11,
      "outputs": [
        {
          "output_type": "execute_result",
          "data": {
            "text/plain": [
              "(1975,)"
            ]
          },
          "metadata": {},
          "execution_count": 11
        }
      ]
    },
    {
      "cell_type": "code",
      "source": [
        "#Create model\n",
        "from keras import Sequential\n",
        "from keras.layers import Dense, LSTM, Dropout\n",
        "model = Sequential()\n",
        "model.add(LSTM(units=50, return_sequences=True, input_shape=(x_train.shape[1],1)))\n",
        "model.add(Dropout(0.2))\n",
        "model.add(LSTM(units=50, return_sequences=True))\n",
        "model.add(Dropout(0.2))\n",
        "model.add(LSTM(units=50))\n",
        "model.add(Dropout(0.2))\n",
        "model.add(Dense(units=1))"
      ],
      "metadata": {
        "id": "TX2s1AvAbabU"
      },
      "execution_count": 12,
      "outputs": []
    },
    {
      "cell_type": "code",
      "source": [
        "model.compile(optimizer='adam', loss='mean_squared_error', metrics=['accuracy'])\n",
        "\n",
        "#model.fit(x_train,y_train, epochs=10, batch_size=32)\n",
        "model.fit(x_train, y_train, epochs=80,validation_data=(x_test, y_test), verbose=1)"
      ],
      "metadata": {
        "colab": {
          "base_uri": "https://localhost:8080/"
        },
        "id": "OJOx9tAZtaB6",
        "outputId": "7e4759e0-72dd-4944-9c0f-2ffbba256c3d"
      },
      "execution_count": 13,
      "outputs": [
        {
          "output_type": "stream",
          "name": "stdout",
          "text": [
            "Epoch 1/10\n",
            "62/62 [==============================] - 13s 74ms/step - loss: 0.0136 - accuracy: 0.0010\n",
            "Epoch 2/10\n",
            "62/62 [==============================] - 5s 78ms/step - loss: 0.0023 - accuracy: 0.0010\n",
            "Epoch 3/10\n",
            "62/62 [==============================] - 5s 83ms/step - loss: 0.0022 - accuracy: 0.0010\n",
            "Epoch 4/10\n",
            "62/62 [==============================] - 5s 73ms/step - loss: 0.0023 - accuracy: 0.0010\n",
            "Epoch 5/10\n",
            "62/62 [==============================] - 5s 73ms/step - loss: 0.0021 - accuracy: 0.0010\n",
            "Epoch 6/10\n",
            "62/62 [==============================] - 5s 73ms/step - loss: 0.0020 - accuracy: 0.0010\n",
            "Epoch 7/10\n",
            "62/62 [==============================] - 5s 73ms/step - loss: 0.0019 - accuracy: 0.0010\n",
            "Epoch 8/10\n",
            "62/62 [==============================] - 5s 73ms/step - loss: 0.0017 - accuracy: 0.0010\n",
            "Epoch 9/10\n",
            "62/62 [==============================] - 5s 73ms/step - loss: 0.0017 - accuracy: 0.0010\n",
            "Epoch 10/10\n",
            "62/62 [==============================] - 5s 73ms/step - loss: 0.0016 - accuracy: 0.0010\n"
          ]
        },
        {
          "output_type": "execute_result",
          "data": {
            "text/plain": [
              "<keras.callbacks.History at 0x7fdab0a5f710>"
            ]
          },
          "metadata": {},
          "execution_count": 13
        }
      ]
    },
    {
      "cell_type": "code",
      "source": [
        "df2 = pd.read_csv('tatatest.csv',encoding = 'unicode_escape')"
      ],
      "metadata": {
        "id": "eoJXDA0Iy0ni"
      },
      "execution_count": 34,
      "outputs": []
    },
    {
      "cell_type": "code",
      "source": [
        "test_data = df2.iloc[:,1:2]"
      ],
      "metadata": {
        "id": "6yUBKFWfzqIj"
      },
      "execution_count": 35,
      "outputs": []
    },
    {
      "cell_type": "code",
      "source": [
        "test_data.shape"
      ],
      "metadata": {
        "colab": {
          "base_uri": "https://localhost:8080/"
        },
        "id": "2Y4EYU9DzqMV",
        "outputId": "575f3186-e96b-474d-e3c4-86f660299b73"
      },
      "execution_count": 16,
      "outputs": [
        {
          "output_type": "execute_result",
          "data": {
            "text/plain": [
              "(16, 1)"
            ]
          },
          "metadata": {},
          "execution_count": 16
        }
      ]
    },
    {
      "cell_type": "code",
      "source": [
        "test_data.head"
      ],
      "metadata": {
        "colab": {
          "base_uri": "https://localhost:8080/"
        },
        "id": "c4TiwXQ8zqPO",
        "outputId": "12a45129-b667-4c52-b14e-e399b47e877e"
      },
      "execution_count": 17,
      "outputs": [
        {
          "output_type": "execute_result",
          "data": {
            "text/plain": [
              "<bound method NDFrame.head of       Open\n",
              "0   220.10\n",
              "1   221.10\n",
              "2   229.45\n",
              "3   230.30\n",
              "4   237.70\n",
              "5   237.10\n",
              "6   229.70\n",
              "7   226.25\n",
              "8   215.00\n",
              "9   215.00\n",
              "10  215.50\n",
              "11  208.00\n",
              "12  217.00\n",
              "13  223.50\n",
              "14  230.00\n",
              "15  234.55>"
            ]
          },
          "metadata": {},
          "execution_count": 17
        }
      ]
    },
    {
      "cell_type": "code",
      "source": [
        "dfx = pd.read_csv('NSE-TATAGLOBAL.csv',encoding = 'unicode_escape')\n",
        "train_data = dfx.iloc[:,1:2]\n",
        "train_data = pd.DataFrame(train_data)\n",
        "train_data.shape"
      ],
      "metadata": {
        "colab": {
          "base_uri": "https://localhost:8080/"
        },
        "id": "RAYeEUxKExzJ",
        "outputId": "002a410f-24e8-4fb9-f241-2727714fd1f7"
      },
      "execution_count": 41,
      "outputs": [
        {
          "output_type": "execute_result",
          "data": {
            "text/plain": [
              "(2035, 1)"
            ]
          },
          "metadata": {},
          "execution_count": 41
        }
      ]
    },
    {
      "cell_type": "code",
      "source": [
        "test_data = pd.DataFrame(test_data)\n",
        "det = test_data.append(train_data)"
      ],
      "metadata": {
        "id": "cyZEVOliFKSU"
      },
      "execution_count": 42,
      "outputs": []
    },
    {
      "cell_type": "code",
      "source": [
        "det.shape"
      ],
      "metadata": {
        "colab": {
          "base_uri": "https://localhost:8080/"
        },
        "id": "YFdM6fAZlFsS",
        "outputId": "5ff38282-101f-4d0b-d561-dc7f8810f1bb"
      },
      "execution_count": 43,
      "outputs": [
        {
          "output_type": "execute_result",
          "data": {
            "text/plain": [
              "(2051, 1)"
            ]
          },
          "metadata": {},
          "execution_count": 43
        }
      ]
    },
    {
      "cell_type": "code",
      "source": [
        "det = det.values"
      ],
      "metadata": {
        "id": "UBRuTPjm5IyA"
      },
      "execution_count": 44,
      "outputs": []
    },
    {
      "cell_type": "code",
      "source": [
        "scale = MinMaxScaler(feature_range=(0,1))\n",
        "test_data_scaled=scale.fit_transform(det)"
      ],
      "metadata": {
        "id": "8FOM1xvm5I00"
      },
      "execution_count": 45,
      "outputs": []
    },
    {
      "cell_type": "code",
      "source": [
        "#convert to timestamp of 60\n",
        "x_test =[]\n",
        "y_test = []\n",
        "for i in range (60,2035):\n",
        "  x_test.append(test_data_scaled[i-60:i,0])\n",
        "  y_test.append(test_data_scaled[i,0])\n",
        "x_test,y_test=np.array(x_test), np.array(y_test)"
      ],
      "metadata": {
        "id": "86wlmMA49Yop"
      },
      "execution_count": 46,
      "outputs": []
    },
    {
      "cell_type": "code",
      "source": [
        "x_test.shape"
      ],
      "metadata": {
        "colab": {
          "base_uri": "https://localhost:8080/"
        },
        "id": "DZZNfQdN9dE4",
        "outputId": "7c6faa5c-d3da-48a0-df56-22b660f1f5bf"
      },
      "execution_count": 47,
      "outputs": [
        {
          "output_type": "execute_result",
          "data": {
            "text/plain": [
              "(1975, 60)"
            ]
          },
          "metadata": {},
          "execution_count": 47
        }
      ]
    },
    {
      "cell_type": "code",
      "source": [
        "x_test = np.reshape(x_test,(x_test.shape[0],x_test.shape[1],1))"
      ],
      "metadata": {
        "id": "xfSc_2AP9MBs"
      },
      "execution_count": 48,
      "outputs": []
    },
    {
      "cell_type": "code",
      "source": [
        "x_test.shape"
      ],
      "metadata": {
        "colab": {
          "base_uri": "https://localhost:8080/"
        },
        "id": "R1p0a05kmdhN",
        "outputId": "172c4c59-dcac-4e42-dd57-15771356227e"
      },
      "execution_count": 49,
      "outputs": [
        {
          "output_type": "execute_result",
          "data": {
            "text/plain": [
              "(1975, 60, 1)"
            ]
          },
          "metadata": {},
          "execution_count": 49
        }
      ]
    },
    {
      "cell_type": "code",
      "source": [
        "model.compile(optimizer='adam', loss='mean_squared_error', metrics=['accuracy'])\n",
        "\n",
        "#model.fit(x_train,y_train, epochs=10, batch_size=32)\n",
        "model.fit(x_train, y_train, epochs=80,validation_data=(x_test, y_test), verbose=1)"
      ],
      "metadata": {
        "colab": {
          "base_uri": "https://localhost:8080/"
        },
        "id": "3L-TAeConPRt",
        "outputId": "9aba163a-7f1a-4543-b422-2c5746c11467"
      },
      "execution_count": 53,
      "outputs": [
        {
          "output_type": "stream",
          "name": "stdout",
          "text": [
            "Epoch 1/80\n",
            "62/62 [==============================] - 12s 111ms/step - loss: 0.0019 - accuracy: 0.0010 - val_loss: 9.5053e-04 - val_accuracy: 0.0010\n",
            "Epoch 2/80\n",
            "62/62 [==============================] - 6s 92ms/step - loss: 0.0018 - accuracy: 0.0010 - val_loss: 0.0016 - val_accuracy: 0.0010\n",
            "Epoch 3/80\n",
            "62/62 [==============================] - 6s 96ms/step - loss: 0.0018 - accuracy: 0.0010 - val_loss: 7.3191e-04 - val_accuracy: 0.0010\n",
            "Epoch 4/80\n",
            "62/62 [==============================] - 6s 91ms/step - loss: 0.0014 - accuracy: 0.0010 - val_loss: 6.6657e-04 - val_accuracy: 0.0010\n",
            "Epoch 5/80\n",
            "62/62 [==============================] - 6s 102ms/step - loss: 0.0012 - accuracy: 0.0010 - val_loss: 7.2084e-04 - val_accuracy: 0.0010\n",
            "Epoch 6/80\n",
            "62/62 [==============================] - 6s 91ms/step - loss: 0.0013 - accuracy: 0.0010 - val_loss: 6.9660e-04 - val_accuracy: 0.0010\n",
            "Epoch 7/80\n",
            "62/62 [==============================] - 6s 91ms/step - loss: 0.0015 - accuracy: 0.0010 - val_loss: 6.6945e-04 - val_accuracy: 0.0010\n",
            "Epoch 8/80\n",
            "62/62 [==============================] - 6s 91ms/step - loss: 0.0011 - accuracy: 0.0010 - val_loss: 9.4230e-04 - val_accuracy: 0.0010\n",
            "Epoch 9/80\n",
            "62/62 [==============================] - 6s 91ms/step - loss: 0.0013 - accuracy: 0.0010 - val_loss: 7.3973e-04 - val_accuracy: 0.0010\n",
            "Epoch 10/80\n",
            "62/62 [==============================] - 6s 92ms/step - loss: 0.0011 - accuracy: 0.0010 - val_loss: 5.9040e-04 - val_accuracy: 0.0010\n",
            "Epoch 11/80\n",
            "62/62 [==============================] - 6s 92ms/step - loss: 0.0011 - accuracy: 0.0010 - val_loss: 6.6226e-04 - val_accuracy: 0.0010\n",
            "Epoch 12/80\n",
            "62/62 [==============================] - 6s 91ms/step - loss: 0.0011 - accuracy: 0.0010 - val_loss: 5.5531e-04 - val_accuracy: 0.0010\n",
            "Epoch 13/80\n",
            "62/62 [==============================] - 7s 108ms/step - loss: 9.7044e-04 - accuracy: 0.0010 - val_loss: 0.0014 - val_accuracy: 0.0010\n",
            "Epoch 14/80\n",
            "62/62 [==============================] - 6s 91ms/step - loss: 0.0010 - accuracy: 0.0010 - val_loss: 5.9449e-04 - val_accuracy: 0.0010\n",
            "Epoch 15/80\n",
            "62/62 [==============================] - 6s 92ms/step - loss: 0.0010 - accuracy: 0.0010 - val_loss: 5.7230e-04 - val_accuracy: 0.0010\n",
            "Epoch 16/80\n",
            "62/62 [==============================] - 6s 91ms/step - loss: 9.6843e-04 - accuracy: 0.0010 - val_loss: 5.2613e-04 - val_accuracy: 0.0010\n",
            "Epoch 17/80\n",
            "62/62 [==============================] - 6s 91ms/step - loss: 9.6814e-04 - accuracy: 0.0010 - val_loss: 4.6767e-04 - val_accuracy: 0.0010\n",
            "Epoch 18/80\n",
            "62/62 [==============================] - 6s 91ms/step - loss: 9.5049e-04 - accuracy: 0.0010 - val_loss: 5.8712e-04 - val_accuracy: 0.0010\n",
            "Epoch 19/80\n",
            "62/62 [==============================] - 6s 91ms/step - loss: 9.2939e-04 - accuracy: 0.0010 - val_loss: 5.4347e-04 - val_accuracy: 0.0010\n",
            "Epoch 20/80\n",
            "62/62 [==============================] - 6s 92ms/step - loss: 0.0010 - accuracy: 0.0010 - val_loss: 7.5937e-04 - val_accuracy: 0.0010\n",
            "Epoch 21/80\n",
            "62/62 [==============================] - 6s 92ms/step - loss: 8.8318e-04 - accuracy: 0.0010 - val_loss: 4.1742e-04 - val_accuracy: 0.0010\n",
            "Epoch 22/80\n",
            "62/62 [==============================] - 6s 93ms/step - loss: 9.2977e-04 - accuracy: 0.0010 - val_loss: 5.7064e-04 - val_accuracy: 0.0010\n",
            "Epoch 23/80\n",
            "62/62 [==============================] - 6s 92ms/step - loss: 8.5936e-04 - accuracy: 0.0010 - val_loss: 0.0010 - val_accuracy: 0.0010\n",
            "Epoch 24/80\n",
            "62/62 [==============================] - 6s 92ms/step - loss: 9.4777e-04 - accuracy: 0.0010 - val_loss: 3.9921e-04 - val_accuracy: 0.0010\n",
            "Epoch 25/80\n",
            "62/62 [==============================] - 6s 92ms/step - loss: 9.3613e-04 - accuracy: 0.0010 - val_loss: 4.0890e-04 - val_accuracy: 0.0010\n",
            "Epoch 26/80\n",
            "62/62 [==============================] - 6s 92ms/step - loss: 8.8087e-04 - accuracy: 0.0010 - val_loss: 4.6587e-04 - val_accuracy: 0.0010\n",
            "Epoch 27/80\n",
            "62/62 [==============================] - 6s 92ms/step - loss: 8.5462e-04 - accuracy: 0.0010 - val_loss: 6.5431e-04 - val_accuracy: 0.0010\n",
            "Epoch 28/80\n",
            "62/62 [==============================] - 6s 92ms/step - loss: 6.6521e-04 - accuracy: 0.0010 - val_loss: 4.5759e-04 - val_accuracy: 0.0010\n",
            "Epoch 29/80\n",
            "62/62 [==============================] - 6s 92ms/step - loss: 7.7001e-04 - accuracy: 0.0010 - val_loss: 3.8925e-04 - val_accuracy: 0.0010\n",
            "Epoch 30/80\n",
            "62/62 [==============================] - 6s 92ms/step - loss: 7.0953e-04 - accuracy: 0.0010 - val_loss: 3.9140e-04 - val_accuracy: 0.0010\n",
            "Epoch 31/80\n",
            "62/62 [==============================] - 6s 92ms/step - loss: 7.3639e-04 - accuracy: 0.0010 - val_loss: 3.4523e-04 - val_accuracy: 0.0010\n",
            "Epoch 32/80\n",
            "62/62 [==============================] - 6s 92ms/step - loss: 7.0537e-04 - accuracy: 0.0010 - val_loss: 3.6491e-04 - val_accuracy: 0.0010\n",
            "Epoch 33/80\n",
            "62/62 [==============================] - 6s 92ms/step - loss: 7.3449e-04 - accuracy: 0.0010 - val_loss: 5.2468e-04 - val_accuracy: 0.0010\n",
            "Epoch 34/80\n",
            "62/62 [==============================] - 6s 93ms/step - loss: 7.4890e-04 - accuracy: 0.0010 - val_loss: 3.2402e-04 - val_accuracy: 0.0010\n",
            "Epoch 35/80\n",
            "62/62 [==============================] - 6s 93ms/step - loss: 6.6615e-04 - accuracy: 0.0010 - val_loss: 3.2495e-04 - val_accuracy: 0.0010\n",
            "Epoch 36/80\n",
            "62/62 [==============================] - 6s 92ms/step - loss: 9.2159e-04 - accuracy: 0.0010 - val_loss: 3.5990e-04 - val_accuracy: 0.0010\n",
            "Epoch 37/80\n",
            "62/62 [==============================] - 6s 92ms/step - loss: 7.3473e-04 - accuracy: 0.0010 - val_loss: 3.1238e-04 - val_accuracy: 0.0010\n",
            "Epoch 38/80\n",
            "62/62 [==============================] - 6s 92ms/step - loss: 8.1190e-04 - accuracy: 0.0010 - val_loss: 3.8429e-04 - val_accuracy: 0.0010\n",
            "Epoch 39/80\n",
            "62/62 [==============================] - 6s 92ms/step - loss: 7.6472e-04 - accuracy: 0.0010 - val_loss: 3.7511e-04 - val_accuracy: 0.0010\n",
            "Epoch 40/80\n",
            "62/62 [==============================] - 6s 92ms/step - loss: 6.9947e-04 - accuracy: 0.0010 - val_loss: 3.4560e-04 - val_accuracy: 0.0010\n",
            "Epoch 41/80\n",
            "62/62 [==============================] - 6s 92ms/step - loss: 6.3021e-04 - accuracy: 0.0010 - val_loss: 3.2892e-04 - val_accuracy: 0.0010\n",
            "Epoch 42/80\n",
            "62/62 [==============================] - 6s 92ms/step - loss: 6.7369e-04 - accuracy: 0.0010 - val_loss: 5.6273e-04 - val_accuracy: 0.0010\n",
            "Epoch 43/80\n",
            "62/62 [==============================] - 6s 93ms/step - loss: 6.3389e-04 - accuracy: 0.0010 - val_loss: 3.4215e-04 - val_accuracy: 0.0010\n",
            "Epoch 44/80\n",
            "62/62 [==============================] - 6s 93ms/step - loss: 6.5822e-04 - accuracy: 0.0010 - val_loss: 3.1595e-04 - val_accuracy: 0.0010\n",
            "Epoch 45/80\n",
            "62/62 [==============================] - 6s 93ms/step - loss: 6.3178e-04 - accuracy: 0.0010 - val_loss: 3.2144e-04 - val_accuracy: 0.0010\n",
            "Epoch 46/80\n",
            "62/62 [==============================] - 6s 93ms/step - loss: 6.0128e-04 - accuracy: 0.0010 - val_loss: 3.2112e-04 - val_accuracy: 0.0010\n",
            "Epoch 47/80\n",
            "62/62 [==============================] - 6s 92ms/step - loss: 7.5342e-04 - accuracy: 0.0010 - val_loss: 4.0955e-04 - val_accuracy: 0.0010\n",
            "Epoch 48/80\n",
            "62/62 [==============================] - 6s 92ms/step - loss: 6.5207e-04 - accuracy: 0.0010 - val_loss: 5.4506e-04 - val_accuracy: 0.0010\n",
            "Epoch 49/80\n",
            "62/62 [==============================] - 6s 92ms/step - loss: 6.5462e-04 - accuracy: 0.0010 - val_loss: 2.7981e-04 - val_accuracy: 0.0010\n",
            "Epoch 50/80\n",
            "62/62 [==============================] - 6s 92ms/step - loss: 6.2216e-04 - accuracy: 0.0010 - val_loss: 3.1476e-04 - val_accuracy: 0.0010\n",
            "Epoch 51/80\n",
            "62/62 [==============================] - 6s 92ms/step - loss: 6.7378e-04 - accuracy: 0.0010 - val_loss: 2.6437e-04 - val_accuracy: 0.0010\n",
            "Epoch 52/80\n",
            "62/62 [==============================] - 6s 94ms/step - loss: 7.6302e-04 - accuracy: 0.0010 - val_loss: 2.9204e-04 - val_accuracy: 0.0010\n",
            "Epoch 53/80\n",
            "62/62 [==============================] - 6s 93ms/step - loss: 6.2920e-04 - accuracy: 0.0010 - val_loss: 3.8278e-04 - val_accuracy: 0.0010\n",
            "Epoch 54/80\n",
            "62/62 [==============================] - 6s 95ms/step - loss: 6.4619e-04 - accuracy: 0.0010 - val_loss: 4.4742e-04 - val_accuracy: 0.0010\n",
            "Epoch 55/80\n",
            "62/62 [==============================] - 7s 110ms/step - loss: 6.3444e-04 - accuracy: 0.0010 - val_loss: 3.4385e-04 - val_accuracy: 0.0010\n",
            "Epoch 56/80\n",
            "62/62 [==============================] - 6s 94ms/step - loss: 6.7459e-04 - accuracy: 0.0010 - val_loss: 2.8810e-04 - val_accuracy: 0.0010\n",
            "Epoch 57/80\n",
            "62/62 [==============================] - 6s 93ms/step - loss: 9.0385e-04 - accuracy: 0.0010 - val_loss: 3.0303e-04 - val_accuracy: 0.0010\n",
            "Epoch 58/80\n",
            "62/62 [==============================] - 6s 93ms/step - loss: 7.5825e-04 - accuracy: 0.0010 - val_loss: 3.0352e-04 - val_accuracy: 0.0010\n",
            "Epoch 59/80\n",
            "62/62 [==============================] - 6s 93ms/step - loss: 6.3367e-04 - accuracy: 0.0010 - val_loss: 5.6645e-04 - val_accuracy: 0.0010\n",
            "Epoch 60/80\n",
            "62/62 [==============================] - 6s 93ms/step - loss: 6.5878e-04 - accuracy: 0.0010 - val_loss: 2.6645e-04 - val_accuracy: 0.0010\n",
            "Epoch 61/80\n",
            "62/62 [==============================] - 6s 92ms/step - loss: 5.6794e-04 - accuracy: 0.0010 - val_loss: 2.3922e-04 - val_accuracy: 0.0010\n",
            "Epoch 62/80\n",
            "62/62 [==============================] - 6s 93ms/step - loss: 5.7699e-04 - accuracy: 0.0010 - val_loss: 4.8142e-04 - val_accuracy: 0.0010\n",
            "Epoch 63/80\n",
            "62/62 [==============================] - 6s 94ms/step - loss: 5.3985e-04 - accuracy: 0.0010 - val_loss: 2.9588e-04 - val_accuracy: 0.0010\n",
            "Epoch 64/80\n",
            "62/62 [==============================] - 6s 93ms/step - loss: 5.7586e-04 - accuracy: 0.0010 - val_loss: 2.9671e-04 - val_accuracy: 0.0010\n",
            "Epoch 65/80\n",
            "62/62 [==============================] - 6s 94ms/step - loss: 5.3755e-04 - accuracy: 0.0010 - val_loss: 2.8218e-04 - val_accuracy: 0.0010\n",
            "Epoch 66/80\n",
            "62/62 [==============================] - 6s 92ms/step - loss: 5.8719e-04 - accuracy: 0.0010 - val_loss: 3.5120e-04 - val_accuracy: 0.0010\n",
            "Epoch 67/80\n",
            "62/62 [==============================] - 6s 93ms/step - loss: 6.4191e-04 - accuracy: 0.0010 - val_loss: 4.8857e-04 - val_accuracy: 0.0010\n",
            "Epoch 68/80\n",
            "62/62 [==============================] - 6s 93ms/step - loss: 6.2074e-04 - accuracy: 0.0010 - val_loss: 2.5176e-04 - val_accuracy: 0.0010\n",
            "Epoch 69/80\n",
            "62/62 [==============================] - 6s 92ms/step - loss: 6.1602e-04 - accuracy: 0.0010 - val_loss: 2.5749e-04 - val_accuracy: 0.0010\n",
            "Epoch 70/80\n",
            "62/62 [==============================] - 6s 93ms/step - loss: 5.8137e-04 - accuracy: 0.0010 - val_loss: 3.2776e-04 - val_accuracy: 0.0010\n",
            "Epoch 71/80\n",
            "62/62 [==============================] - 6s 93ms/step - loss: 5.9659e-04 - accuracy: 0.0010 - val_loss: 3.0874e-04 - val_accuracy: 0.0010\n",
            "Epoch 72/80\n",
            "62/62 [==============================] - 6s 93ms/step - loss: 5.2909e-04 - accuracy: 0.0010 - val_loss: 2.9400e-04 - val_accuracy: 0.0010\n",
            "Epoch 73/80\n",
            "62/62 [==============================] - 6s 93ms/step - loss: 5.7002e-04 - accuracy: 0.0010 - val_loss: 2.7431e-04 - val_accuracy: 0.0010\n",
            "Epoch 74/80\n",
            "62/62 [==============================] - 6s 93ms/step - loss: 6.5820e-04 - accuracy: 0.0010 - val_loss: 4.1281e-04 - val_accuracy: 0.0010\n",
            "Epoch 75/80\n",
            "62/62 [==============================] - 6s 93ms/step - loss: 6.6241e-04 - accuracy: 0.0010 - val_loss: 2.9049e-04 - val_accuracy: 0.0010\n",
            "Epoch 76/80\n",
            "62/62 [==============================] - 6s 94ms/step - loss: 5.9004e-04 - accuracy: 0.0010 - val_loss: 2.5499e-04 - val_accuracy: 0.0010\n",
            "Epoch 77/80\n",
            "62/62 [==============================] - 6s 93ms/step - loss: 5.2652e-04 - accuracy: 0.0010 - val_loss: 2.4889e-04 - val_accuracy: 0.0010\n",
            "Epoch 78/80\n",
            "62/62 [==============================] - 6s 92ms/step - loss: 4.9160e-04 - accuracy: 0.0010 - val_loss: 2.5112e-04 - val_accuracy: 0.0010\n",
            "Epoch 79/80\n",
            "62/62 [==============================] - 6s 92ms/step - loss: 5.6353e-04 - accuracy: 0.0010 - val_loss: 4.4413e-04 - val_accuracy: 0.0010\n",
            "Epoch 80/80\n",
            "62/62 [==============================] - 6s 93ms/step - loss: 5.8581e-04 - accuracy: 0.0010 - val_loss: 3.1446e-04 - val_accuracy: 0.0010\n"
          ]
        },
        {
          "output_type": "execute_result",
          "data": {
            "text/plain": [
              "<keras.callbacks.History at 0x7fda4d3a72d0>"
            ]
          },
          "metadata": {},
          "execution_count": 53
        }
      ]
    },
    {
      "cell_type": "code",
      "source": [
        "# make a prediction\n",
        "ynew = model.predict(x_test)"
      ],
      "metadata": {
        "colab": {
          "base_uri": "https://localhost:8080/"
        },
        "id": "cRfyIoOWbaeK",
        "outputId": "0abcc7b7-aa96-4d1c-b2ae-27c997e38e3c"
      },
      "execution_count": 54,
      "outputs": [
        {
          "output_type": "stream",
          "name": "stdout",
          "text": [
            "62/62 [==============================] - 2s 20ms/step\n"
          ]
        }
      ]
    },
    {
      "cell_type": "code",
      "source": [
        "test_inverse_predicted = scale.inverse_transform(ynew)"
      ],
      "metadata": {
        "id": "7EWZjkGkqW2W"
      },
      "execution_count": 55,
      "outputs": []
    },
    {
      "cell_type": "code",
      "source": [
        "slic_data = pd.concat([df.iloc[60:2035,1:2].copy(),pd.DataFrame(test_inverse_predicted,columns=['open_predicted'],index=df.iloc[60:2035,1:2].index)], axis=1)\n",
        "\n",
        "slic_data.head()"
      ],
      "metadata": {
        "colab": {
          "base_uri": "https://localhost:8080/",
          "height": 206
        },
        "id": "9g3RHNZRpjHC",
        "outputId": "76ed65cf-f858-4e2c-e5b5-495f08f44e1f"
      },
      "execution_count": 72,
      "outputs": [
        {
          "output_type": "execute_result",
          "data": {
            "text/plain": [
              "     Open  open_predicted\n",
              "60  271.0      243.477600\n",
              "61  262.7      243.970993\n",
              "62  263.0      239.007874\n",
              "63  265.1      232.242142\n",
              "64  264.8      236.251160"
            ],
            "text/html": [
              "\n",
              "  <div id=\"df-b90c5c19-0e95-4b09-93e6-bf6071cc3e3c\">\n",
              "    <div class=\"colab-df-container\">\n",
              "      <div>\n",
              "<style scoped>\n",
              "    .dataframe tbody tr th:only-of-type {\n",
              "        vertical-align: middle;\n",
              "    }\n",
              "\n",
              "    .dataframe tbody tr th {\n",
              "        vertical-align: top;\n",
              "    }\n",
              "\n",
              "    .dataframe thead th {\n",
              "        text-align: right;\n",
              "    }\n",
              "</style>\n",
              "<table border=\"1\" class=\"dataframe\">\n",
              "  <thead>\n",
              "    <tr style=\"text-align: right;\">\n",
              "      <th></th>\n",
              "      <th>Open</th>\n",
              "      <th>open_predicted</th>\n",
              "    </tr>\n",
              "  </thead>\n",
              "  <tbody>\n",
              "    <tr>\n",
              "      <th>60</th>\n",
              "      <td>271.0</td>\n",
              "      <td>243.477600</td>\n",
              "    </tr>\n",
              "    <tr>\n",
              "      <th>61</th>\n",
              "      <td>262.7</td>\n",
              "      <td>243.970993</td>\n",
              "    </tr>\n",
              "    <tr>\n",
              "      <th>62</th>\n",
              "      <td>263.0</td>\n",
              "      <td>239.007874</td>\n",
              "    </tr>\n",
              "    <tr>\n",
              "      <th>63</th>\n",
              "      <td>265.1</td>\n",
              "      <td>232.242142</td>\n",
              "    </tr>\n",
              "    <tr>\n",
              "      <th>64</th>\n",
              "      <td>264.8</td>\n",
              "      <td>236.251160</td>\n",
              "    </tr>\n",
              "  </tbody>\n",
              "</table>\n",
              "</div>\n",
              "      <button class=\"colab-df-convert\" onclick=\"convertToInteractive('df-b90c5c19-0e95-4b09-93e6-bf6071cc3e3c')\"\n",
              "              title=\"Convert this dataframe to an interactive table.\"\n",
              "              style=\"display:none;\">\n",
              "        \n",
              "  <svg xmlns=\"http://www.w3.org/2000/svg\" height=\"24px\"viewBox=\"0 0 24 24\"\n",
              "       width=\"24px\">\n",
              "    <path d=\"M0 0h24v24H0V0z\" fill=\"none\"/>\n",
              "    <path d=\"M18.56 5.44l.94 2.06.94-2.06 2.06-.94-2.06-.94-.94-2.06-.94 2.06-2.06.94zm-11 1L8.5 8.5l.94-2.06 2.06-.94-2.06-.94L8.5 2.5l-.94 2.06-2.06.94zm10 10l.94 2.06.94-2.06 2.06-.94-2.06-.94-.94-2.06-.94 2.06-2.06.94z\"/><path d=\"M17.41 7.96l-1.37-1.37c-.4-.4-.92-.59-1.43-.59-.52 0-1.04.2-1.43.59L10.3 9.45l-7.72 7.72c-.78.78-.78 2.05 0 2.83L4 21.41c.39.39.9.59 1.41.59.51 0 1.02-.2 1.41-.59l7.78-7.78 2.81-2.81c.8-.78.8-2.07 0-2.86zM5.41 20L4 18.59l7.72-7.72 1.47 1.35L5.41 20z\"/>\n",
              "  </svg>\n",
              "      </button>\n",
              "      \n",
              "  <style>\n",
              "    .colab-df-container {\n",
              "      display:flex;\n",
              "      flex-wrap:wrap;\n",
              "      gap: 12px;\n",
              "    }\n",
              "\n",
              "    .colab-df-convert {\n",
              "      background-color: #E8F0FE;\n",
              "      border: none;\n",
              "      border-radius: 50%;\n",
              "      cursor: pointer;\n",
              "      display: none;\n",
              "      fill: #1967D2;\n",
              "      height: 32px;\n",
              "      padding: 0 0 0 0;\n",
              "      width: 32px;\n",
              "    }\n",
              "\n",
              "    .colab-df-convert:hover {\n",
              "      background-color: #E2EBFA;\n",
              "      box-shadow: 0px 1px 2px rgba(60, 64, 67, 0.3), 0px 1px 3px 1px rgba(60, 64, 67, 0.15);\n",
              "      fill: #174EA6;\n",
              "    }\n",
              "\n",
              "    [theme=dark] .colab-df-convert {\n",
              "      background-color: #3B4455;\n",
              "      fill: #D2E3FC;\n",
              "    }\n",
              "\n",
              "    [theme=dark] .colab-df-convert:hover {\n",
              "      background-color: #434B5C;\n",
              "      box-shadow: 0px 1px 3px 1px rgba(0, 0, 0, 0.15);\n",
              "      filter: drop-shadow(0px 1px 2px rgba(0, 0, 0, 0.3));\n",
              "      fill: #FFFFFF;\n",
              "    }\n",
              "  </style>\n",
              "\n",
              "      <script>\n",
              "        const buttonEl =\n",
              "          document.querySelector('#df-b90c5c19-0e95-4b09-93e6-bf6071cc3e3c button.colab-df-convert');\n",
              "        buttonEl.style.display =\n",
              "          google.colab.kernel.accessAllowed ? 'block' : 'none';\n",
              "\n",
              "        async function convertToInteractive(key) {\n",
              "          const element = document.querySelector('#df-b90c5c19-0e95-4b09-93e6-bf6071cc3e3c');\n",
              "          const dataTable =\n",
              "            await google.colab.kernel.invokeFunction('convertToInteractive',\n",
              "                                                     [key], {});\n",
              "          if (!dataTable) return;\n",
              "\n",
              "          const docLinkHtml = 'Like what you see? Visit the ' +\n",
              "            '<a target=\"_blank\" href=https://colab.research.google.com/notebooks/data_table.ipynb>data table notebook</a>'\n",
              "            + ' to learn more about interactive tables.';\n",
              "          element.innerHTML = '';\n",
              "          dataTable['output_type'] = 'display_data';\n",
              "          await google.colab.output.renderOutput(dataTable, element);\n",
              "          const docLink = document.createElement('div');\n",
              "          docLink.innerHTML = docLinkHtml;\n",
              "          element.appendChild(docLink);\n",
              "        }\n",
              "      </script>\n",
              "    </div>\n",
              "  </div>\n",
              "  "
            ]
          },
          "metadata": {},
          "execution_count": 72
        }
      ]
    },
    {
      "cell_type": "code",
      "source": [
        "import matplotlib.pyplot as plt\n",
        "slic_data[['Open','open_predicted']].plot(figsize=(10,6))\n",
        "plt.xticks(rotation=45)\n",
        "plt.xlabel('Date',size=15)\n",
        "plt.ylabel('Stock Price',size=15)\n",
        "plt.title('Actual vs Predicted for open price',size=15)\n",
        "plt.show()"
      ],
      "metadata": {
        "colab": {
          "base_uri": "https://localhost:8080/",
          "height": 426
        },
        "id": "peSk2HfWuDZ-",
        "outputId": "5127dc5a-6269-4ab1-8e64-f1e383b4d22b"
      },
      "execution_count": 75,
      "outputs": [
        {
          "output_type": "display_data",
          "data": {
            "text/plain": [
              "<Figure size 720x432 with 1 Axes>"
            ],
            "image/png": "[encoded data removed]"
          },
          "metadata": {
            "needs_background": "light"
          }
        }
      ]
    },
    {
      "cell_type": "markdown",
      "source": [
        "#Conclusion:\n",
        "1) Implemented a RNN and used LSTM to predict on stock prices. The training data was low hence we got poor accuracy.                          \n",
        "2) In RNNs, LSTMs are very widely used in Neural networks. Their effectiveness should be implemented to multiple sequence modelling problems in many application domains like video, NLP, geospatial, and time-series."
      ],
      "metadata": {
        "id": "JXjlsLtKwNo6"
      }
    },
    {
      "cell_type": "code",
      "source": [
        "! jupyter nbconvert --to html I082_Shreyas_Dongre_DL_Exp10.ipynb"
      ],
      "metadata": {
        "id": "E-SFbtd7bal-"
      },
      "execution_count": null,
      "outputs": []
    }
  ]
}